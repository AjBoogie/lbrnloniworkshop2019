{
  "nbformat": 4,
  "nbformat_minor": 0,
  "metadata": {
    "colab": {
      "name": "sc_numpy.ipynb",
      "version": "0.3.2",
      "provenance": [],
      "collapsed_sections": [
        "UFekiWAcgO5y",
        "qsbFX3PjgO63",
        "wCROdnDBgO7E",
        "HwpH4UJ9gO7g"
      ],
      "include_colab_link": true
    },
    "language_info": {
      "codemirror_mode": {
        "name": "ipython",
        "version": 3
      },
      "file_extension": ".py",
      "mimetype": "text/x-python",
      "name": "python",
      "nbconvert_exporter": "python",
      "pygments_lexer": "ipython3",
      "version": "3.6.4"
    },
    "kernelspec": {
      "display_name": "Python 3",
      "language": "python",
      "name": "python3"
    }
  },
  "cells": [
    {
      "cell_type": "markdown",
      "metadata": {
        "id": "view-in-github",
        "colab_type": "text"
      },
      "source": [
        "<a href=\"https://colab.research.google.com/github/lsuhpchelp/lbrnloniworkshop2019/blob/master/day2_python/sc_numpy.ipynb\" target=\"_parent\"><img src=\"https://colab.research.google.com/assets/colab-badge.svg\" alt=\"Open In Colab\"/></a>"
      ]
    },
    {
      "cell_type": "markdown",
      "metadata": {
        "id": "DdlQwl05ibyS",
        "colab_type": "text"
      },
      "source": [
        "# Scientific Computing with Python"
      ]
    },
    {
      "cell_type": "code",
      "metadata": {
        "id": "u_TWjvdFgO1T",
        "colab_type": "code",
        "colab": {}
      },
      "source": [
        "# to bring the print function from Python 3 into Python 2.6+\n",
        "from __future__ import print_function"
      ],
      "execution_count": 0,
      "outputs": []
    },
    {
      "cell_type": "markdown",
      "metadata": {
        "id": "rniBs6qggO1c",
        "colab_type": "text"
      },
      "source": [
        "### Demostration of Python Loop"
      ]
    },
    {
      "cell_type": "code",
      "metadata": {
        "id": "BDxT2c9JgO1d",
        "colab_type": "code",
        "colab": {}
      },
      "source": [
        "a = list(range(5))\n",
        "print(a)"
      ],
      "execution_count": 0,
      "outputs": []
    },
    {
      "cell_type": "code",
      "metadata": {
        "id": "WX1vO658gO1n",
        "colab_type": "code",
        "colab": {}
      },
      "source": [
        "for idx in range(len(a)):\n",
        "    a[idx] += 5\n",
        "print(a)"
      ],
      "execution_count": 0,
      "outputs": []
    },
    {
      "cell_type": "markdown",
      "metadata": {
        "id": "uxalkqmMgO1r",
        "colab_type": "text"
      },
      "source": [
        "### Python Tuples\n",
        "- A tuple is a sequence of immutable Python objects. Tuples are sequences, just like lists. \n",
        "- The differences between tuples and lists are, the tuples cannot be changed unlike lists and tuples use parentheses, whereas lists use square brackets."
      ]
    },
    {
      "cell_type": "code",
      "metadata": {
        "id": "Y_W6J9fhgO1t",
        "colab_type": "code",
        "colab": {}
      },
      "source": [
        "tup1 = ('physics', 1997, 'chemistry', 2000); \n",
        "print(tup1)"
      ],
      "execution_count": 0,
      "outputs": []
    },
    {
      "cell_type": "code",
      "metadata": {
        "id": "bVgjTZFhgO1y",
        "colab_type": "code",
        "colab": {}
      },
      "source": [
        "tup2 = (1, 2, 3, 4, 5);\n",
        "print(tup2)"
      ],
      "execution_count": 0,
      "outputs": []
    },
    {
      "cell_type": "code",
      "metadata": {
        "id": "KmIIT7MQgO13",
        "colab_type": "code",
        "colab": {}
      },
      "source": [
        "tup3 = \"a\", \"b\", \"c\", \"d\";\n",
        "print(tup3)"
      ],
      "execution_count": 0,
      "outputs": []
    },
    {
      "cell_type": "code",
      "metadata": {
        "id": "z0p5vZEGgO16",
        "colab_type": "code",
        "colab": {}
      },
      "source": [
        "tup4 = 3, 5, 7\n",
        "print(tup4)"
      ],
      "execution_count": 0,
      "outputs": []
    },
    {
      "cell_type": "code",
      "metadata": {
        "id": "Tw-cF5RLgO1-",
        "colab_type": "code",
        "colab": {}
      },
      "source": [
        "# The empty tuple is written as two parentheses containing nothing\n",
        "tup1 = ();\n",
        "print(tup1)"
      ],
      "execution_count": 0,
      "outputs": []
    },
    {
      "cell_type": "code",
      "metadata": {
        "id": "f-uuRfIpgO2G",
        "colab_type": "code",
        "colab": {}
      },
      "source": [
        "# To write a tuple containing a single value you have to include a comma,\n",
        "tup1 = (50,);\n",
        "print(tup1)"
      ],
      "execution_count": 0,
      "outputs": []
    },
    {
      "cell_type": "code",
      "metadata": {
        "id": "-To5ShBygO2N",
        "colab_type": "code",
        "colab": {}
      },
      "source": [
        "tup1a = 50,\n",
        "print(tup1a)"
      ],
      "execution_count": 0,
      "outputs": []
    },
    {
      "cell_type": "code",
      "metadata": {
        "id": "1AAhbezfgO2U",
        "colab_type": "code",
        "colab": {}
      },
      "source": [
        "# Accessing Values in Tuples\n",
        "print(\"tup1[0]: \", tup1[0])"
      ],
      "execution_count": 0,
      "outputs": []
    },
    {
      "cell_type": "code",
      "metadata": {
        "id": "-e0sR_fBgO2Z",
        "colab_type": "code",
        "colab": {}
      },
      "source": [
        "#tup1[0]=5 #tuples are immutable, they cannot be changed"
      ],
      "execution_count": 0,
      "outputs": []
    },
    {
      "cell_type": "code",
      "metadata": {
        "id": "-iQ4Ev8HgO2d",
        "colab_type": "code",
        "colab": {}
      },
      "source": [
        "print(\"tup2[1:5]: \", tup2[1:5])"
      ],
      "execution_count": 0,
      "outputs": []
    },
    {
      "cell_type": "code",
      "metadata": {
        "id": "UJrK7VOXgO2h",
        "colab_type": "code",
        "colab": {}
      },
      "source": [
        "# Updating Tuples, create a new tuple as follows\n",
        "tup3 = tup1 + tup2\n",
        "print(tup3)"
      ],
      "execution_count": 0,
      "outputs": []
    },
    {
      "cell_type": "code",
      "metadata": {
        "id": "j5bH2ZrvgO2m",
        "colab_type": "code",
        "colab": {}
      },
      "source": [
        "# delete tuple elements\n",
        "print(\"Deleting tup3 : \")\n",
        "del tup3;\n",
        "#print(tup3) # this will reture an error"
      ],
      "execution_count": 0,
      "outputs": []
    },
    {
      "cell_type": "markdown",
      "metadata": {
        "id": "nmJz3GbzgO2p",
        "colab_type": "text"
      },
      "source": [
        "# Numpy Overview\n",
        "- NumPy (Numeric Python) is the fundamental package for scientific computing in Python.\n",
        "- It is a Python library that provides a multidimensional array object, various derived objects (such as masked arrays and matrices)\n",
        "- An assortment of routines for fast operations on arrays, including mathematical, logical, shape manipulation, sorting, selecting, I/O, discrete Fourier transforms, basic linear algebra, basic statistical operations, random simulation and much more.\n",
        "- In short , NumPy package provides basic routines for manipulating large arrays and matrices of numeric data. "
      ]
    },
    {
      "cell_type": "markdown",
      "metadata": {
        "id": "pQKjLrqxgO2q",
        "colab_type": "text"
      },
      "source": [
        "# Simple array math using np.array.\n",
        "* Note that NumPy array starts its index from 0, end at N-1 (C-style)"
      ]
    },
    {
      "cell_type": "code",
      "metadata": {
        "id": "V1aie9_kgO2r",
        "colab_type": "code",
        "colab": {}
      },
      "source": [
        "import numpy as np # an alias for the namespace\n",
        "a = np.array([1,2,3])\n",
        "b = np.array([4,5,6])"
      ],
      "execution_count": 0,
      "outputs": []
    },
    {
      "cell_type": "code",
      "metadata": {
        "id": "EXkhrEOLgO2u",
        "colab_type": "code",
        "colab": {}
      },
      "source": [
        "print(a)"
      ],
      "execution_count": 0,
      "outputs": []
    },
    {
      "cell_type": "code",
      "metadata": {
        "id": "nKV9_tulgO2x",
        "colab_type": "code",
        "colab": {}
      },
      "source": [
        "print(b)"
      ],
      "execution_count": 0,
      "outputs": []
    },
    {
      "cell_type": "code",
      "metadata": {
        "id": "aVHqCV03gO23",
        "colab_type": "code",
        "colab": {}
      },
      "source": [
        "print(a+b)"
      ],
      "execution_count": 0,
      "outputs": []
    },
    {
      "cell_type": "code",
      "metadata": {
        "id": "lHcPCc3ygO29",
        "colab_type": "code",
        "colab": {}
      },
      "source": [
        "print(a*b)"
      ],
      "execution_count": 0,
      "outputs": []
    },
    {
      "cell_type": "code",
      "metadata": {
        "id": "w28wlRt1gO3C",
        "colab_type": "code",
        "colab": {}
      },
      "source": [
        "print(a ** b)"
      ],
      "execution_count": 0,
      "outputs": []
    },
    {
      "cell_type": "markdown",
      "metadata": {
        "id": "gMXQar19gO3G",
        "colab_type": "text"
      },
      "source": [
        "* Setting Array Element Values"
      ]
    },
    {
      "cell_type": "code",
      "metadata": {
        "id": "2LIyxH3dgO3G",
        "colab_type": "code",
        "colab": {}
      },
      "source": [
        "a[0]=11\n",
        "print(a)"
      ],
      "execution_count": 0,
      "outputs": []
    },
    {
      "cell_type": "code",
      "metadata": {
        "id": "3TUrfRetgO3K",
        "colab_type": "code",
        "colab": {}
      },
      "source": [
        "a.fill(0) # set all values in the array with 0\n",
        "print(a)"
      ],
      "execution_count": 0,
      "outputs": []
    },
    {
      "cell_type": "code",
      "metadata": {
        "id": "A7fm17ocgO3O",
        "colab_type": "code",
        "colab": {}
      },
      "source": [
        "a[:]=1 # why we need to use [:]?"
      ],
      "execution_count": 0,
      "outputs": []
    },
    {
      "cell_type": "code",
      "metadata": {
        "id": "vHnW8gihgO3R",
        "colab_type": "code",
        "colab": {}
      },
      "source": [
        "print(a)\n",
        "print(a.dtype) # note that a is still int64 type !"
      ],
      "execution_count": 0,
      "outputs": []
    },
    {
      "cell_type": "code",
      "metadata": {
        "id": "a7mz0so8gO3X",
        "colab_type": "code",
        "colab": {}
      },
      "source": [
        "a[0]=10.6 # decimal parts are truncated, be careful!\n",
        "print(a)"
      ],
      "execution_count": 0,
      "outputs": []
    },
    {
      "cell_type": "code",
      "metadata": {
        "id": "1w8xnA7EgO3b",
        "colab_type": "code",
        "colab": {}
      },
      "source": [
        "a.fill(-3.7) # fill() will have the same behavior\n",
        "print(a)"
      ],
      "execution_count": 0,
      "outputs": []
    },
    {
      "cell_type": "markdown",
      "metadata": {
        "id": "lohjScE1gO3g",
        "colab_type": "text"
      },
      "source": [
        "#### Create floating value arrays"
      ]
    },
    {
      "cell_type": "code",
      "metadata": {
        "id": "j31EKbhYgO3h",
        "colab_type": "code",
        "colab": {}
      },
      "source": [
        "a = np.array([1,2,3.1])\n",
        "print(a)"
      ],
      "execution_count": 0,
      "outputs": []
    },
    {
      "cell_type": "code",
      "metadata": {
        "id": "yZcoMcUEgO3k",
        "colab_type": "code",
        "colab": {}
      },
      "source": [
        "a = np.array([1,2,3],dtype=float)\n",
        "print(a)"
      ],
      "execution_count": 0,
      "outputs": []
    },
    {
      "cell_type": "code",
      "metadata": {
        "id": "cnkCv0_fgO3p",
        "colab_type": "code",
        "colab": {}
      },
      "source": [
        "a = np.array([1,2,3]).astype(float)\n",
        "print(a)"
      ],
      "execution_count": 0,
      "outputs": []
    },
    {
      "cell_type": "markdown",
      "metadata": {
        "id": "J11afn09gO3t",
        "colab_type": "text"
      },
      "source": [
        "* #### Numpy Array Properties"
      ]
    },
    {
      "cell_type": "code",
      "metadata": {
        "id": "_YbsVuI-gO3u",
        "colab_type": "code",
        "colab": {}
      },
      "source": [
        "a = np.array([0,1,2,3]) # create a from a list\n",
        "print(a)\n",
        "# create evenly spaced values within [start, stop)\n",
        "a = np.arange(0,5)\n",
        "print(a)"
      ],
      "execution_count": 0,
      "outputs": []
    },
    {
      "cell_type": "code",
      "metadata": {
        "id": "Lly-UWHvgO3w",
        "colab_type": "code",
        "colab": {}
      },
      "source": [
        "a = np.arange(4)\n",
        "print(a)"
      ],
      "execution_count": 0,
      "outputs": []
    },
    {
      "cell_type": "code",
      "metadata": {
        "id": "K-Ax2NGDgO32",
        "colab_type": "code",
        "colab": {}
      },
      "source": [
        "print(type(a))"
      ],
      "execution_count": 0,
      "outputs": []
    },
    {
      "cell_type": "code",
      "metadata": {
        "id": "XWoqGKgJgO37",
        "colab_type": "code",
        "colab": {}
      },
      "source": [
        "print(a.dtype)\n",
        "# shape returns a tuple listing the length of the array\n",
        "print(a.shape) # or np.shape(a)"
      ],
      "execution_count": 0,
      "outputs": []
    },
    {
      "cell_type": "markdown",
      "metadata": {
        "id": "wdZzCWTQgO3_",
        "colab_type": "text"
      },
      "source": [
        "#### Note the data type"
      ]
    },
    {
      "cell_type": "code",
      "metadata": {
        "id": "DJp4GOeggO4B",
        "colab_type": "code",
        "colab": {}
      },
      "source": [
        "a = np.arange(4,dtype=float)\n",
        "print(a)"
      ],
      "execution_count": 0,
      "outputs": []
    },
    {
      "cell_type": "code",
      "metadata": {
        "id": "MkWjAiiygO4F",
        "colab_type": "code",
        "colab": {}
      },
      "source": [
        "print(type(a))\n",
        "print(a.dtype)\n",
        "print(a.shape) # or np.shape(a)"
      ],
      "execution_count": 0,
      "outputs": []
    },
    {
      "cell_type": "code",
      "metadata": {
        "id": "kdwYTiwngO4K",
        "colab_type": "code",
        "colab": {}
      },
      "source": [
        "print(a.size) # or np.size(a), return the total number of elements\n",
        "# return the number of dimensions of the array\n",
        "print(a.ndim)"
      ],
      "execution_count": 0,
      "outputs": []
    },
    {
      "cell_type": "markdown",
      "metadata": {
        "id": "aGpCaj6ZgO4N",
        "colab_type": "text"
      },
      "source": [
        "* #### Numpy Array Creation Functions\n",
        "- Numpy's arange is nearly identical to Python’s `range()`. Creates an array of values in the range [start,stop,step) with the specified step value. Allows non-integer values for start, stop, and step. Default dtype is derived from the start, stop, and step values"
      ]
    },
    {
      "cell_type": "code",
      "metadata": {
        "id": "w3UfCIHLgO4O",
        "colab_type": "code",
        "colab": {}
      },
      "source": [
        "a = np.arange(4)\n",
        "print(a)"
      ],
      "execution_count": 0,
      "outputs": []
    },
    {
      "cell_type": "code",
      "metadata": {
        "id": "hgg-Hj8egO4S",
        "colab_type": "code",
        "colab": {}
      },
      "source": [
        "a = np.arange(1.5,2.4,0.3)\n",
        "print(a)"
      ],
      "execution_count": 0,
      "outputs": []
    },
    {
      "cell_type": "code",
      "metadata": {
        "id": "5q0M64XMgO4V",
        "colab_type": "code",
        "colab": {}
      },
      "source": [
        "a = np.arange(0, 2*np.pi, np.pi/4)\n",
        "print(a)"
      ],
      "execution_count": 0,
      "outputs": []
    },
    {
      "cell_type": "code",
      "metadata": {
        "id": "e-dT1abKgO4Z",
        "colab_type": "code",
        "colab": {}
      },
      "source": [
        "a = np.ones((2,3)) # need to supply tuple as shape of the array!\n",
        "print(a)\n",
        "print(a.dtype)"
      ],
      "execution_count": 0,
      "outputs": []
    },
    {
      "cell_type": "code",
      "metadata": {
        "id": "xnwf3TDvgO4c",
        "colab_type": "code",
        "colab": {}
      },
      "source": [
        "a = np.zeros((3,3)) # need to supply tuple as shape of the array!\n",
        "print(a)\n",
        "print(a.dtype)"
      ],
      "execution_count": 0,
      "outputs": []
    },
    {
      "cell_type": "markdown",
      "metadata": {
        "id": "VSkLFP1vgO4k",
        "colab_type": "text"
      },
      "source": [
        "* #### Useful initial value creation"
      ]
    },
    {
      "cell_type": "code",
      "metadata": {
        "id": "dYwcuTC6gO4l",
        "colab_type": "code",
        "colab": {}
      },
      "source": [
        "a = np.identity(4)\n",
        "print(a)"
      ],
      "execution_count": 0,
      "outputs": []
    },
    {
      "cell_type": "code",
      "metadata": {
        "id": "XvTlWmiegO4q",
        "colab_type": "code",
        "colab": {}
      },
      "source": [
        "a = np.eye(4,dtype=int)\n",
        "print(a)\n",
        "print(a.dtype)"
      ],
      "execution_count": 0,
      "outputs": []
    },
    {
      "cell_type": "code",
      "metadata": {
        "id": "W8cTdgUHgO4s",
        "colab_type": "code",
        "colab": {}
      },
      "source": [
        "a = np.empty(2)\n",
        "print(a)\n",
        "a.fill(5.0)\n",
        "print(a)\n",
        "a[:] = 4.0\n",
        "print(a)"
      ],
      "execution_count": 0,
      "outputs": []
    },
    {
      "cell_type": "markdown",
      "metadata": {
        "id": "C1Tr-DSdgO4w",
        "colab_type": "text"
      },
      "source": [
        "* #### `numpy.linspace(start, stop, num=50, endpoint=True, retstep=False, dtype=None)`\n",
        "Return evenly spaced numbers over a specified interval."
      ]
    },
    {
      "cell_type": "code",
      "metadata": {
        "id": "6YZfMKM5gO4y",
        "colab_type": "code",
        "colab": {}
      },
      "source": [
        "a = np.linspace(0,1,5)\n",
        "print(a)"
      ],
      "execution_count": 0,
      "outputs": []
    },
    {
      "cell_type": "markdown",
      "metadata": {
        "id": "SaKt7UShgO42",
        "colab_type": "text"
      },
      "source": [
        "* #### `numpy.logspace(start, stop, num=50, endpoint=True, base=10.0, dtype=None)`\n",
        "Return numbers spaced evenly on a log scale."
      ]
    },
    {
      "cell_type": "code",
      "metadata": {
        "id": "Ve7NNc1bgO44",
        "colab_type": "code",
        "colab": {}
      },
      "source": [
        "a = np.logspace(0,1,5)\n",
        "print(a)"
      ],
      "execution_count": 0,
      "outputs": []
    },
    {
      "cell_type": "code",
      "metadata": {
        "id": "Gs4mmAP3gO49",
        "colab_type": "code",
        "colab": {}
      },
      "source": [
        "a = np.logspace(2.0, 3.0, num=4, base=2.0)\n",
        "print(a)"
      ],
      "execution_count": 0,
      "outputs": []
    },
    {
      "cell_type": "markdown",
      "metadata": {
        "id": "mm5LuQ2IgO5A",
        "colab_type": "text"
      },
      "source": [
        "* #### Array from/to ASCII files\n",
        "use loadtxt\n",
        "\n",
        "`data.txt`<br>\n",
        "  `Index`<br>\n",
        "`Brain Weight`<br>\n",
        "`Body Weight`<br>\n",
        "`#here is the training set`<br>\n",
        "`1 3.385 44.500 abjhk`<br>\n",
        "`2 0.480 33.38 bc_00asdk`<br>\n",
        "`...`<br>\n",
        "`#here is the cross validation set`<br>\n",
        "`6 27.660 115.000 rk`<br>\n",
        "`7 14.830 98.200 fff`<br>\n",
        "`...`<br>\n",
        "`9 4.190 58.000 kij`<br>"
      ]
    },
    {
      "cell_type": "code",
      "metadata": {
        "id": "C4oJxgbu4WI_",
        "colab_type": "code",
        "colab": {}
      },
      "source": [
        "# download the file to local virtual machine\n",
        "! if [ ! -f \"data.txt\" ]; then wget 'https://raw.githubusercontent.com/lsuhpchelp/lbrnloniworkshop2019/master/day2_python/data.txt'; else echo 'file exists'; fi;\n",
        "! cat data.txt"
      ],
      "execution_count": 0,
      "outputs": []
    },
    {
      "cell_type": "code",
      "metadata": {
        "id": "Q9cCgPodgO5B",
        "colab_type": "code",
        "colab": {}
      },
      "source": [
        "# np.loadtxt can directly load a txt from a URL\n",
        "#weburl = 'https://raw.githubusercontent.com/lsuhpchelp/lbrnloniworkshop2019/master/day2_python/'\n",
        "#txtfile = weburl + 'data.txt'\n",
        "\n",
        "# we will use the file locally on the virtual machine\n",
        "txtfile = 'data.txt'\n",
        "a = np.loadtxt(txtfile,skiprows=16,usecols={0,1,2},dtype=None,comments=\"#\")\n",
        "print(a)"
      ],
      "execution_count": 0,
      "outputs": []
    },
    {
      "cell_type": "markdown",
      "metadata": {
        "id": "lkLGKSGAgO5E",
        "colab_type": "text"
      },
      "source": [
        "Using genfromtxt"
      ]
    },
    {
      "cell_type": "code",
      "metadata": {
        "id": "0L0kk4cAgO5E",
        "colab_type": "code",
        "colab": {}
      },
      "source": [
        "# np.genfromtxt can guess the actual type of your columns by using dtype=None\n",
        "a = np.genfromtxt(txtfile,skip_header=16,dtype=None,encoding='ascii')\n",
        "print(a)"
      ],
      "execution_count": 0,
      "outputs": []
    },
    {
      "cell_type": "markdown",
      "metadata": {
        "id": "fcvqZtyvgO5G",
        "colab_type": "text"
      },
      "source": [
        "* #### Reshaping Arrays"
      ]
    },
    {
      "cell_type": "code",
      "metadata": {
        "id": "ZbX0ZeFJgO5H",
        "colab_type": "code",
        "colab": {}
      },
      "source": [
        "a = np.arange(6)\n",
        "print(a)\n",
        "print(a.shape)"
      ],
      "execution_count": 0,
      "outputs": []
    },
    {
      "cell_type": "code",
      "metadata": {
        "id": "lEkbEGgrgO5O",
        "colab_type": "code",
        "colab": {}
      },
      "source": [
        "a.shape = (2,3) # reshape array to 2x3\n",
        "print(a)"
      ],
      "execution_count": 0,
      "outputs": []
    },
    {
      "cell_type": "code",
      "metadata": {
        "id": "LgDfr66kgO5R",
        "colab_type": "code",
        "colab": {}
      },
      "source": [
        "a = a.reshape(3,2) # reshape array to 3x2\n",
        "print(a)\n",
        "# a.reshape(2,5) # cannot change the number of elements in the array\n",
        "# Traceback (most recent call last):\n",
        "# File \"<stdin>\", line 1, in <module>\n",
        "# ValueError: total size of new array must be unchanged"
      ],
      "execution_count": 0,
      "outputs": []
    },
    {
      "cell_type": "code",
      "metadata": {
        "id": "buIQknvjgO5U",
        "colab_type": "code",
        "colab": {}
      },
      "source": [
        "a = a.reshape(2,-1) # numpy determines the last dimension\n",
        "print(a)"
      ],
      "execution_count": 0,
      "outputs": []
    },
    {
      "cell_type": "code",
      "metadata": {
        "id": "RWgISQL2gO5Y",
        "colab_type": "code",
        "colab": {}
      },
      "source": [
        "a = a.reshape(-1,2)\n",
        "print(a)"
      ],
      "execution_count": 0,
      "outputs": []
    },
    {
      "cell_type": "markdown",
      "metadata": {
        "id": "Q1TXsB6agO5c",
        "colab_type": "text"
      },
      "source": [
        "* #### Flattening Multi-dimensional Arrays"
      ]
    },
    {
      "cell_type": "code",
      "metadata": {
        "id": "Mo0u5KJcgO5c",
        "colab_type": "code",
        "colab": {}
      },
      "source": [
        "a = np.arange(12).reshape(-1,4)\n",
        "print(a)"
      ],
      "execution_count": 0,
      "outputs": []
    },
    {
      "cell_type": "code",
      "metadata": {
        "id": "nbHmY0BlgO5f",
        "colab_type": "code",
        "colab": {}
      },
      "source": [
        "# a.flatten() converts a multidimensional array into\n",
        "# a 1-D array. The new array is a copy of the original data.\n",
        "b = a.flatten()\n",
        "print(b)"
      ],
      "execution_count": 0,
      "outputs": []
    },
    {
      "cell_type": "markdown",
      "metadata": {
        "id": "w6thN8yAgO5i",
        "colab_type": "text"
      },
      "source": [
        "# Numpy is easy and fast!\n",
        "## Rule of thumb: \n",
        "> ### Removing loops using NumPy"
      ]
    },
    {
      "cell_type": "code",
      "metadata": {
        "id": "MxataCyngO5j",
        "colab_type": "code",
        "colab": {}
      },
      "source": [
        "# we use the timeit (measure execution time of small code snippets) function \n",
        "a=list(range(100000))\n",
        "result_loop = %timeit -o b = [val+5 for val in a]\n",
        "print(\"best result using for loop: %f sec\" % (result_loop.best,))"
      ],
      "execution_count": 0,
      "outputs": []
    },
    {
      "cell_type": "code",
      "metadata": {
        "id": "oS-NUVbggO5n",
        "colab_type": "code",
        "colab": {}
      },
      "source": [
        "a=np.array(a)\n",
        "result_ufunc = %timeit -o a+5\n",
        "print(\"best result using ufunc: %f sec\" % (result_ufunc.best,))"
      ],
      "execution_count": 0,
      "outputs": []
    },
    {
      "cell_type": "code",
      "metadata": {
        "id": "yGzmB2uYgO5r",
        "colab_type": "code",
        "colab": {}
      },
      "source": [
        "speedup = result_loop.best/result_ufunc.best\n",
        "print(\"speedup=%.1f times\" % (speedup,))"
      ],
      "execution_count": 0,
      "outputs": []
    },
    {
      "cell_type": "markdown",
      "metadata": {
        "id": "Xa4SSwwggO5x",
        "colab_type": "text"
      },
      "source": [
        "# Four Tools in Numpy\n",
        "1. Ufunc (Universal Function)\n",
        "1. Aggregation\n",
        "1. Broadcasting\n",
        "1. Slicing, masking and fancy indexing"
      ]
    },
    {
      "cell_type": "markdown",
      "metadata": {
        "id": "UFekiWAcgO5y",
        "colab_type": "text"
      },
      "source": [
        "### Why Numpy is fast? \n",
        "- Avoid type check overhead\n",
        "- Vectorization (simplified)\n",
        " - The process of rewriting a loop so that instead of processing a single element of an array N times, it processes (say) 4 elements of the array simultaneously N/4 times. \n",
        "- Many of the built-in functions are implemented in compiled C code.\n",
        " - They can be much faster than the code on the Python level"
      ]
    },
    {
      "cell_type": "markdown",
      "metadata": {
        "id": "S-3nui-ZgO5y",
        "colab_type": "text"
      },
      "source": [
        "### Ufunc: Many ufuncs available\n",
        "- Arithmetic Operators: `+ - * / // (floor division) % **`\n",
        "- Bitwise Operators: `& | ~ ^ >> <<`\n",
        "- Comparison Oper’s: `< > <= >= == !=`\n",
        "- Trig Family: `np.sin, np.cos, np.tan ...`\n",
        "- Exponential Family: `np.exp, np.log, np.log10 ...`\n",
        "- Special Functions: `scipy.special.*`\n",
        "- . . . and many, many more."
      ]
    },
    {
      "cell_type": "markdown",
      "metadata": {
        "id": "eSrdmvYzgO5z",
        "colab_type": "text"
      },
      "source": [
        "* #### Demostration of Ufunc"
      ]
    },
    {
      "cell_type": "code",
      "metadata": {
        "id": "kNDGJWq7gO5z",
        "colab_type": "code",
        "colab": {}
      },
      "source": [
        "x = np.linspace(0,np.pi)\n",
        "print(x)"
      ],
      "execution_count": 0,
      "outputs": []
    },
    {
      "cell_type": "code",
      "metadata": {
        "id": "jyAjdoOTgO52",
        "colab_type": "code",
        "colab": {}
      },
      "source": [
        "x *= 2\n",
        "print(x)"
      ],
      "execution_count": 0,
      "outputs": []
    },
    {
      "cell_type": "code",
      "metadata": {
        "id": "KmGCJm44gO54",
        "colab_type": "code",
        "colab": {}
      },
      "source": [
        "y = np.sin(x)\n",
        "print(y)"
      ],
      "execution_count": 0,
      "outputs": []
    },
    {
      "cell_type": "code",
      "metadata": {
        "id": "soJnhqvNgO59",
        "colab_type": "code",
        "colab": {}
      },
      "source": [
        "import matplotlib.pyplot as plt\n",
        "plt.plot(x,y)\n",
        "plt.show()"
      ],
      "execution_count": 0,
      "outputs": []
    },
    {
      "cell_type": "markdown",
      "metadata": {
        "id": "dsswVdbKgO5_",
        "colab_type": "text"
      },
      "source": [
        "### Aggregation Functions"
      ]
    },
    {
      "cell_type": "markdown",
      "metadata": {
        "id": "S5Z6BX2DgO5_",
        "colab_type": "text"
      },
      "source": [
        "- Aggregations are functions which summarize the values in an array (e.g. min, max, sum, mean, etc.)\n",
        "- Numpy aggregations are much faster than Python built-in functions\n",
        "\n",
        "- All have the same call style:\n",
        "\n",
        "    `np.min() np.max() np.sum() np.prod()`<br>\n",
        "`np.argsort()`<br>\n",
        "`np.mean() np.std() np.var() np.any()`<br>\n",
        "`np.all() np.median() np.percentile()`<br>\n",
        "`np.argmin() np.argmax() . . .`<br>\n",
        "`np.nanmin() np.nanmax() np.nansum(). . .`<br>\n",
        "\n",
        "<!--\n",
        "<img src=\"figure/np_aggregation.png\", style=\"float: left;\", width=\"300\">\n",
        "-->\n",
        "\n",
        "![myphoto](https://github.com/lsuhpchelp/lbrnloniworkshop2019/raw/master/day2_python/figure/np_aggregation.png)\n"
      ]
    },
    {
      "cell_type": "code",
      "metadata": {
        "id": "bFqM_S3MgO6A",
        "colab_type": "code",
        "colab": {}
      },
      "source": [
        "# Numpy Aggregation - Array Calculation\n",
        "a=np.arange(6).reshape(2,-1)\n",
        "print(a)"
      ],
      "execution_count": 0,
      "outputs": []
    },
    {
      "cell_type": "code",
      "metadata": {
        "id": "F1NvY_BNgO6E",
        "colab_type": "code",
        "colab": {}
      },
      "source": [
        "# by default a.sum() adds up all values\n",
        "print(a.sum())"
      ],
      "execution_count": 0,
      "outputs": []
    },
    {
      "cell_type": "code",
      "metadata": {
        "id": "ymDmxKItgO6H",
        "colab_type": "code",
        "colab": {}
      },
      "source": [
        "# same result, functional form\n",
        "print(np.sum(a))"
      ],
      "execution_count": 0,
      "outputs": []
    },
    {
      "cell_type": "code",
      "metadata": {
        "id": "O42Ws7TugO6I",
        "colab_type": "code",
        "colab": {}
      },
      "source": [
        "# note this is not numpy’s sum!\n",
        "print(sum(a))"
      ],
      "execution_count": 0,
      "outputs": []
    },
    {
      "cell_type": "code",
      "metadata": {
        "id": "9jtGzXrPgO6L",
        "colab_type": "code",
        "colab": {}
      },
      "source": [
        "# not numpy’s sum either!\n",
        "# sum(a,axis=0)\n",
        "# Traceback (most recent call last):\n",
        "# File \"<stdin>\", line 1, in <module>\n",
        "# TypeError: sum() takes no keyword\n",
        "# arguments\n",
        "# sum along different axis\n",
        "print(np.sum(a,axis=0))"
      ],
      "execution_count": 0,
      "outputs": []
    },
    {
      "cell_type": "code",
      "metadata": {
        "id": "w_3lDtS_gO6P",
        "colab_type": "code",
        "colab": {}
      },
      "source": [
        "print(np.sum(a,axis=1))"
      ],
      "execution_count": 0,
      "outputs": []
    },
    {
      "cell_type": "code",
      "metadata": {
        "id": "qL5ytSXCgO6R",
        "colab_type": "code",
        "colab": {}
      },
      "source": [
        "print(np.sum(a,axis=-1))"
      ],
      "execution_count": 0,
      "outputs": []
    },
    {
      "cell_type": "code",
      "metadata": {
        "id": "MYde3jRHgO6U",
        "colab_type": "code",
        "colab": {}
      },
      "source": [
        "# product along different axis\n",
        "print(np.prod(a,axis=0))"
      ],
      "execution_count": 0,
      "outputs": []
    },
    {
      "cell_type": "code",
      "metadata": {
        "id": "RmM4Xw6kgO6W",
        "colab_type": "code",
        "colab": {}
      },
      "source": [
        "print(a.prod(axis=1))"
      ],
      "execution_count": 0,
      "outputs": []
    },
    {
      "cell_type": "code",
      "metadata": {
        "id": "XqOKiQsagO6Z",
        "colab_type": "code",
        "colab": {}
      },
      "source": [
        "# Numpy Aggregation – Statistical Methods\n",
        "np.set_printoptions(precision=4)\n",
        "# generate 2x3 random float array\n",
        "a=np.random.random(6).reshape(2,3)\n",
        "print(a)"
      ],
      "execution_count": 0,
      "outputs": []
    },
    {
      "cell_type": "code",
      "metadata": {
        "id": "y4aIKGt9gO6c",
        "colab_type": "code",
        "colab": {}
      },
      "source": [
        "print(a.mean(axis=0))"
      ],
      "execution_count": 0,
      "outputs": []
    },
    {
      "cell_type": "code",
      "metadata": {
        "id": "w3HfJ41-gO6d",
        "colab_type": "code",
        "colab": {}
      },
      "source": [
        "print(a.mean(axis=1))"
      ],
      "execution_count": 0,
      "outputs": []
    },
    {
      "cell_type": "code",
      "metadata": {
        "id": "nigK3KtygO6f",
        "colab_type": "code",
        "colab": {}
      },
      "source": [
        "print(a.mean())"
      ],
      "execution_count": 0,
      "outputs": []
    },
    {
      "cell_type": "code",
      "metadata": {
        "id": "1bzIdZqTgO6i",
        "colab_type": "code",
        "colab": {}
      },
      "source": [
        "print(np.mean(a))"
      ],
      "execution_count": 0,
      "outputs": []
    },
    {
      "cell_type": "code",
      "metadata": {
        "id": "zNAz-x4YgO6k",
        "colab_type": "code",
        "colab": {}
      },
      "source": [
        "# average can use weights\n",
        "print(np.average(a,weights=[1,2,3],axis=1))"
      ],
      "execution_count": 0,
      "outputs": []
    },
    {
      "cell_type": "code",
      "metadata": {
        "id": "yxj50CXegO6l",
        "colab_type": "code",
        "colab": {}
      },
      "source": [
        "# standard deviation\n",
        "print(a.std(axis=0))"
      ],
      "execution_count": 0,
      "outputs": []
    },
    {
      "cell_type": "code",
      "metadata": {
        "id": "OMWY_EFQgO6m",
        "colab_type": "code",
        "colab": {}
      },
      "source": [
        "# variance\n",
        "print(np.var(a, axis=1))"
      ],
      "execution_count": 0,
      "outputs": []
    },
    {
      "cell_type": "code",
      "metadata": {
        "id": "BHvtBzFMgO6o",
        "colab_type": "code",
        "colab": {}
      },
      "source": [
        "# min/max operation\n",
        "print(a.min())"
      ],
      "execution_count": 0,
      "outputs": []
    },
    {
      "cell_type": "code",
      "metadata": {
        "id": "AvL15KhggO6p",
        "colab_type": "code",
        "colab": {}
      },
      "source": [
        "print(np.max(a))"
      ],
      "execution_count": 0,
      "outputs": []
    },
    {
      "cell_type": "code",
      "metadata": {
        "id": "lh83UhlmgO6r",
        "colab_type": "code",
        "colab": {}
      },
      "source": [
        "# find index of the minimum\n",
        "print(a.argmin(axis=0))"
      ],
      "execution_count": 0,
      "outputs": []
    },
    {
      "cell_type": "code",
      "metadata": {
        "id": "tAlltljCgO6y",
        "colab_type": "code",
        "colab": {}
      },
      "source": [
        "print(np.argmax(a,axis=1))"
      ],
      "execution_count": 0,
      "outputs": []
    },
    {
      "cell_type": "code",
      "metadata": {
        "id": "rOP09U8pgO6z",
        "colab_type": "code",
        "colab": {}
      },
      "source": [
        "# this will return flattened index\n",
        "print(np.argmin(a))"
      ],
      "execution_count": 0,
      "outputs": []
    },
    {
      "cell_type": "code",
      "metadata": {
        "id": "s60pznxlgO60",
        "colab_type": "code",
        "colab": {}
      },
      "source": [
        "print(a.argmax())"
      ],
      "execution_count": 0,
      "outputs": []
    },
    {
      "cell_type": "markdown",
      "metadata": {
        "id": "qsbFX3PjgO63",
        "colab_type": "text"
      },
      "source": [
        "### Array Broadcasting\n",
        "\n",
        "- Broadcasting is a set of rules by which ufuncs operate on arrays of different sizes and/or dimensions.\n",
        "- Broadcasting allows NumPy arrays of different dimensionality to be\n",
        "combined in the same expression.\n",
        "- Arrays with smaller dimension are broadcasted to match the larger arrays, without copying data."
      ]
    },
    {
      "cell_type": "markdown",
      "metadata": {
        "id": "V59yttxNgO64",
        "colab_type": "text"
      },
      "source": [
        "### Broadcasting Rules\n",
        "- If array shapes differ, left-pad the smaller shape with 1s\n",
        "- If any dimension does not match, broadcast the dimension with size=1\n",
        "\n",
        "<!--\n",
        "<img src=\"figure/np_broadcast.png\", align=\"left\", width=\"500\"></br>\n",
        "-->\n",
        "\n",
        "![myphoto](https://github.com/lsuhpchelp/lbrnloniworkshop2019/raw/master/day2_python/figure/np_broadcast_scale.png)\n",
        "\n"
      ]
    },
    {
      "cell_type": "markdown",
      "metadata": {
        "id": "5yc0IYLrgO66",
        "colab_type": "text"
      },
      "source": [
        "- If neither non-matching dimension is 1, raise an error.\n",
        "\n",
        "<!--\n",
        "<img src=\"figure/np_broadcast_error.png\", align=\"left\", width=\"200\">\n",
        "-->\n",
        "\n",
        "![myphoto](https://github.com/lsuhpchelp/lbrnloniworkshop2019/raw/master/day2_python/figure/np_broadcast_error.png)"
      ]
    },
    {
      "cell_type": "code",
      "metadata": {
        "id": "F6taGEWzgO66",
        "colab_type": "code",
        "colab": {}
      },
      "source": [
        "a = np.arange(3)\n",
        "print(\"a=\",a)\n",
        "b = 5\n",
        "print(\"b=\",b)\n",
        "print(\"a+b=\",a+b)"
      ],
      "execution_count": 0,
      "outputs": []
    },
    {
      "cell_type": "code",
      "metadata": {
        "id": "3lJ6-UYMgO69",
        "colab_type": "code",
        "colab": {}
      },
      "source": [
        "a = np.arange(3).reshape(-1,1)\n",
        "print(\"a=\")\n",
        "print(a)\n",
        "b = 5\n",
        "print(\"b=\")\n",
        "print(b)\n",
        "print(\"a+b=\")\n",
        "print(a+b)"
      ],
      "execution_count": 0,
      "outputs": []
    },
    {
      "cell_type": "code",
      "metadata": {
        "id": "yyluxtgcgO6_",
        "colab_type": "code",
        "colab": {}
      },
      "source": [
        "a = np.ones((3,3))\n",
        "print(\"a=\")\n",
        "print(a)\n",
        "b = np.arange(3)\n",
        "print(\"b=\")\n",
        "print(b)\n",
        "print(\"a+b=\")\n",
        "print(a+b)"
      ],
      "execution_count": 0,
      "outputs": []
    },
    {
      "cell_type": "code",
      "metadata": {
        "id": "4CEop87ygO7A",
        "colab_type": "code",
        "colab": {}
      },
      "source": [
        "a = np.ones((3,3))\n",
        "print(\"a=\")\n",
        "print(a)\n",
        "b = np.arange(3).reshape(-1,1)\n",
        "print(\"b=\")\n",
        "print(b)\n",
        "print(\"a+b=\")\n",
        "print(a+b)"
      ],
      "execution_count": 0,
      "outputs": []
    },
    {
      "cell_type": "code",
      "metadata": {
        "id": "MhnGBy9ogO7C",
        "colab_type": "code",
        "colab": {}
      },
      "source": [
        "a = np.arange(3).reshape(3,1)\n",
        "print(\"a=\")\n",
        "print(a)\n",
        "b = np.arange(3)\n",
        "print(\"b=\")\n",
        "print(b)\n",
        "print(\"a+b=\")\n",
        "print(a+b)"
      ],
      "execution_count": 0,
      "outputs": []
    },
    {
      "cell_type": "code",
      "metadata": {
        "id": "uUVSvPY8gO7D",
        "colab_type": "code",
        "colab": {}
      },
      "source": [
        "a=np.arange(6).reshape(3,2)\n",
        "print(\"a=\")\n",
        "print(a)\n",
        "b = np.arange(3)\n",
        "print(\"b=\")\n",
        "print(b)\n",
        "# this will raise an error\n",
        "#a + b"
      ],
      "execution_count": 0,
      "outputs": []
    },
    {
      "cell_type": "markdown",
      "metadata": {
        "id": "wCROdnDBgO7E",
        "colab_type": "text"
      },
      "source": [
        "### Slicing, Masking and Fancy Indexing\n",
        "\n",
        "- `arr[lower:upper:step]`\n",
        "- Extracts a portion of a sequence by specifying a lower and upper bound. The lower-bound element is included, but the upper-bound element is not included. Mathematically: `[lower, upper)`. The step value specifies the stride between elements"
      ]
    },
    {
      "cell_type": "code",
      "metadata": {
        "id": "BWcycHbcgO7H",
        "colab_type": "code",
        "colab": {}
      },
      "source": [
        "# indices: 0 1 2 3 4\n",
        "# negative indices:-5 -4 -3 -2 -1\n",
        "a = np.array([10,11,12,13,14])\n",
        "# The following slicing results are the same"
      ],
      "execution_count": 0,
      "outputs": []
    },
    {
      "cell_type": "code",
      "metadata": {
        "id": "1fqloZLOgO7I",
        "colab_type": "code",
        "colab": {}
      },
      "source": [
        "print(a[1:3])"
      ],
      "execution_count": 0,
      "outputs": []
    },
    {
      "cell_type": "code",
      "metadata": {
        "id": "slKQZtMQgO7M",
        "colab_type": "code",
        "colab": {}
      },
      "source": [
        "print(a[1:-2])"
      ],
      "execution_count": 0,
      "outputs": []
    },
    {
      "cell_type": "code",
      "metadata": {
        "id": "kZbdVRwCgO7Q",
        "colab_type": "code",
        "colab": {}
      },
      "source": [
        "print(a[-4:3])"
      ],
      "execution_count": 0,
      "outputs": []
    },
    {
      "cell_type": "code",
      "metadata": {
        "id": "pjxm8xBpgO7S",
        "colab_type": "code",
        "colab": {}
      },
      "source": [
        "# Omitting Indices: omitted boundaries are assumed to be the beginning\n",
        "# or end of the list, compare the following results\n",
        "print(a[:3])"
      ],
      "execution_count": 0,
      "outputs": []
    },
    {
      "cell_type": "code",
      "metadata": {
        "id": "WMk0BT_RgO7U",
        "colab_type": "code",
        "colab": {}
      },
      "source": [
        "print(a[-2:])"
      ],
      "execution_count": 0,
      "outputs": []
    },
    {
      "cell_type": "code",
      "metadata": {
        "id": "N2_yvneTgO7X",
        "colab_type": "code",
        "colab": {}
      },
      "source": [
        "print(a[1:]) # from 1st element to the last"
      ],
      "execution_count": 0,
      "outputs": []
    },
    {
      "cell_type": "code",
      "metadata": {
        "id": "SjxWBYAGgO7Y",
        "colab_type": "code",
        "colab": {}
      },
      "source": [
        "print(a[:-1]) # from 1st to the second to last"
      ],
      "execution_count": 0,
      "outputs": []
    },
    {
      "cell_type": "code",
      "metadata": {
        "id": "BPiUsNfsgO7a",
        "colab_type": "code",
        "colab": {}
      },
      "source": [
        "print(a[:]) # entire array"
      ],
      "execution_count": 0,
      "outputs": []
    },
    {
      "cell_type": "code",
      "metadata": {
        "id": "sEuiCIlsgO7b",
        "colab_type": "code",
        "colab": {}
      },
      "source": [
        "print(a[::2]) # from 1st, every other element (even indices)"
      ],
      "execution_count": 0,
      "outputs": []
    },
    {
      "cell_type": "code",
      "metadata": {
        "id": "w4lZag3qgO7c",
        "colab_type": "code",
        "colab": {}
      },
      "source": [
        "print(a[1::2]) # from 2nd, every other element (odd indices)"
      ],
      "execution_count": 0,
      "outputs": []
    },
    {
      "cell_type": "markdown",
      "metadata": {
        "id": "HwpH4UJ9gO7g",
        "colab_type": "text"
      },
      "source": [
        "* #### Multidimensional Arrays"
      ]
    },
    {
      "cell_type": "code",
      "metadata": {
        "id": "fFWloDK3gO7h",
        "colab_type": "code",
        "colab": {}
      },
      "source": [
        "# A few 2D operations similar to the 1D operations shown above\n",
        "a = np.array([[ 0, 1, 2, 3],[10,11,12,13]], float)\n",
        "print(a)"
      ],
      "execution_count": 0,
      "outputs": []
    },
    {
      "cell_type": "code",
      "metadata": {
        "id": "l57AeQ-MgO7i",
        "colab_type": "code",
        "colab": {}
      },
      "source": [
        "print(a.shape,a.size)"
      ],
      "execution_count": 0,
      "outputs": []
    },
    {
      "cell_type": "code",
      "metadata": {
        "id": "6mX-w_BYgO7j",
        "colab_type": "code",
        "colab": {}
      },
      "source": [
        "print(a.ndim) # number of dimensions"
      ],
      "execution_count": 0,
      "outputs": []
    },
    {
      "cell_type": "code",
      "metadata": {
        "id": "MzJMLMywgO7k",
        "colab_type": "code",
        "colab": {}
      },
      "source": [
        "print(a[1,3]) # reference a 2D array element"
      ],
      "execution_count": 0,
      "outputs": []
    },
    {
      "cell_type": "code",
      "metadata": {
        "id": "mPWZzXYsgO7m",
        "colab_type": "code",
        "colab": {}
      },
      "source": [
        "a[1,3] = -1 # set value of an array element"
      ],
      "execution_count": 0,
      "outputs": []
    },
    {
      "cell_type": "code",
      "metadata": {
        "id": "7dZfUV2agO7n",
        "colab_type": "code",
        "colab": {}
      },
      "source": [
        "print(a[1]) # address second row using a single index"
      ],
      "execution_count": 0,
      "outputs": []
    },
    {
      "cell_type": "code",
      "metadata": {
        "id": "grstSYcXgO7o",
        "colab_type": "code",
        "colab": {}
      },
      "source": [
        "a = np.arange(1,26)\n",
        "a = a.reshape(5,5) # generate the 2D array\n",
        "print(a)"
      ],
      "execution_count": 0,
      "outputs": []
    },
    {
      "cell_type": "code",
      "metadata": {
        "id": "Bo_zuV2EgO7p",
        "colab_type": "code",
        "colab": {}
      },
      "source": [
        "print(a[0,3:5])"
      ],
      "execution_count": 0,
      "outputs": []
    },
    {
      "cell_type": "code",
      "metadata": {
        "id": "IHddn7YxgO7v",
        "colab_type": "code",
        "colab": {}
      },
      "source": [
        "print(a[0,3:4])"
      ],
      "execution_count": 0,
      "outputs": []
    },
    {
      "cell_type": "code",
      "metadata": {
        "id": "68hT5XeHgO7y",
        "colab_type": "code",
        "colab": {}
      },
      "source": [
        "print(a[4:,4:])"
      ],
      "execution_count": 0,
      "outputs": []
    },
    {
      "cell_type": "code",
      "metadata": {
        "id": "kcoo4uqTgO70",
        "colab_type": "code",
        "colab": {}
      },
      "source": [
        "print(a[3:,3:])"
      ],
      "execution_count": 0,
      "outputs": []
    },
    {
      "cell_type": "code",
      "metadata": {
        "id": "M3QUPi80gO71",
        "colab_type": "code",
        "colab": {}
      },
      "source": [
        "print(a[:,2])"
      ],
      "execution_count": 0,
      "outputs": []
    },
    {
      "cell_type": "code",
      "metadata": {
        "id": "ENMMZRRQgO72",
        "colab_type": "code",
        "colab": {}
      },
      "source": [
        "print(a[2::2,::2])"
      ],
      "execution_count": 0,
      "outputs": []
    },
    {
      "cell_type": "markdown",
      "metadata": {
        "id": "dOJ3VUszgO73",
        "colab_type": "text"
      },
      "source": [
        "### Slices Are References\n",
        "- Slices are references to memory in the original array\n",
        "- Changing values in a slice also changes the original array !"
      ]
    },
    {
      "cell_type": "code",
      "metadata": {
        "id": "VKZ5Os7dgO73",
        "colab_type": "code",
        "colab": {}
      },
      "source": [
        "a = np.arange(5)\n",
        "print(a)"
      ],
      "execution_count": 0,
      "outputs": []
    },
    {
      "cell_type": "code",
      "metadata": {
        "id": "oBpldQJEgO75",
        "colab_type": "code",
        "colab": {}
      },
      "source": [
        "b = a[2:4]\n",
        "print(b)"
      ],
      "execution_count": 0,
      "outputs": []
    },
    {
      "cell_type": "code",
      "metadata": {
        "id": "INZqY9gEgO76",
        "colab_type": "code",
        "colab": {}
      },
      "source": [
        "b[0]=7\n",
        "print(a)"
      ],
      "execution_count": 0,
      "outputs": []
    },
    {
      "cell_type": "markdown",
      "metadata": {
        "id": "NFTphT1PgO77",
        "colab_type": "text"
      },
      "source": [
        "### Masking"
      ]
    },
    {
      "cell_type": "code",
      "metadata": {
        "id": "Zk9OdUTPgO78",
        "colab_type": "code",
        "colab": {}
      },
      "source": [
        "a = np.arange(10)\n",
        "print(a)"
      ],
      "execution_count": 0,
      "outputs": []
    },
    {
      "cell_type": "code",
      "metadata": {
        "id": "toc0o7rOgO7_",
        "colab_type": "code",
        "colab": {}
      },
      "source": [
        "# creation of mask using ufunc\n",
        "mask=np.abs(a-5)>2\n",
        "print(mask)"
      ],
      "execution_count": 0,
      "outputs": []
    },
    {
      "cell_type": "code",
      "metadata": {
        "id": "ux9tOyswgO8C",
        "colab_type": "code",
        "colab": {}
      },
      "source": [
        "print(a[mask])"
      ],
      "execution_count": 0,
      "outputs": []
    },
    {
      "cell_type": "code",
      "metadata": {
        "id": "engr-shJgO8F",
        "colab_type": "code",
        "colab": {}
      },
      "source": [
        "b=a[mask]\n",
        "# manual creation of mask\n",
        "mask=np.array([0,1,0,1,0],dtype=bool)\n",
        "print(b[mask])"
      ],
      "execution_count": 0,
      "outputs": []
    },
    {
      "cell_type": "markdown",
      "metadata": {
        "id": "vRJUBR-FgO8G",
        "colab_type": "text"
      },
      "source": [
        "### 2D Masking\n",
        "<!--\n",
        "<img src=\"https://github.com/lsuhpchelp/lbrnloniworkshop2018/raw/master/day2_python/figure/masking_2d.png\", style=\"float: left;\", width=\"250\">\n",
        "-->\n",
        "\n",
        "\n",
        "![masking 2d](https://github.com/lsuhpchelp/lbrnloniworkshop2019/raw/master/day2_python/figure/masking_2d_scale.png)"
      ]
    },
    {
      "cell_type": "code",
      "metadata": {
        "id": "xhjGE4q5gO8G",
        "colab_type": "code",
        "colab": {}
      },
      "source": [
        "a=np.arange(25).reshape(5,5)+10\n",
        "print(a)"
      ],
      "execution_count": 0,
      "outputs": []
    },
    {
      "cell_type": "code",
      "metadata": {
        "id": "flTvRcfGgO8H",
        "colab_type": "code",
        "colab": {}
      },
      "source": [
        "mask=np.array([0,1,1,0,1],dtype=bool)\n",
        "print(a[mask]) # on rows, same as a[mask,:]"
      ],
      "execution_count": 0,
      "outputs": []
    },
    {
      "cell_type": "code",
      "metadata": {
        "id": "-xCLHmV7gO8J",
        "colab_type": "code",
        "colab": {}
      },
      "source": [
        "print(a[:,mask]) # on columns"
      ],
      "execution_count": 0,
      "outputs": []
    },
    {
      "cell_type": "markdown",
      "metadata": {
        "id": "2XmKUIvmgO8M",
        "colab_type": "text"
      },
      "source": [
        "### Fancy Indexing - 1D\n",
        "- NumPy offers more indexing facilities than regular Python sequences.\n",
        "- In addition to indexing by integers and slices, arrays can be indexed by arrays of integers and arrays of Booleans (as seen before)."
      ]
    },
    {
      "cell_type": "code",
      "metadata": {
        "id": "nYZBYUvugO8M",
        "colab_type": "code",
        "colab": {}
      },
      "source": [
        "a=np.arange(8)**2\n",
        "print(a)\n",
        "# indexing by position\n",
        "i=np.array([1,3,5,1])\n",
        "print(a[i])"
      ],
      "execution_count": 0,
      "outputs": []
    },
    {
      "cell_type": "code",
      "metadata": {
        "id": "CoLro3O-gO8N",
        "colab_type": "code",
        "colab": {}
      },
      "source": [
        "b=(np.arange(6)**2).reshape(2,-1)\n",
        "print(b)\n",
        "i=[0,1,0]\n",
        "j=[0,2,1]\n",
        "print(b[i,j]) # indexing 2D array by position"
      ],
      "execution_count": 0,
      "outputs": []
    },
    {
      "cell_type": "markdown",
      "metadata": {
        "id": "7PyqbzrhgO8P",
        "colab_type": "text"
      },
      "source": [
        "### Fancy Indexing - 2D\n",
        "<!--\n",
        "<img src=\"figure/fancy_indexing_2d.png\", style=\"float: left;\", width=\"200\">\n",
        "-->\n",
        "![masking 2d](https://github.com/lsuhpchelp/lbrnloniworkshop2019/raw/master/day2_python/figure/fancy_indexing_2d_scale.png)"
      ]
    },
    {
      "cell_type": "code",
      "metadata": {
        "id": "_3w-6NC0gO8P",
        "colab_type": "code",
        "colab": {}
      },
      "source": [
        "b=(np.arange(12)**2).reshape(3,-1)\n",
        "print(b)\n",
        "i=[0,2,1]\n",
        "j=[0,2,3]\n",
        "# indexing 2D array\n",
        "print(b[i,j])"
      ],
      "execution_count": 0,
      "outputs": []
    },
    {
      "cell_type": "code",
      "metadata": {
        "id": "OHyHKfsMgO8R",
        "colab_type": "code",
        "colab": {}
      },
      "source": [
        "# note the shape of the resulting array\n",
        "i=[[0,2],[2,1]]\n",
        "j=[[0,3],[3,1]]\n",
        "# When an array of indices is used,\n",
        "# the result has the same shape as the indices;\n",
        "print(b[i,j])"
      ],
      "execution_count": 0,
      "outputs": []
    },
    {
      "cell_type": "markdown",
      "metadata": {
        "id": "wv1alMymgO8T",
        "colab_type": "text"
      },
      "source": [
        "## Example of using masking, and plotting"
      ]
    },
    {
      "cell_type": "code",
      "metadata": {
        "id": "W9gnjAJFgO8U",
        "colab_type": "code",
        "colab": {}
      },
      "source": [
        "x = np.linspace(-np.pi, np.pi, 30,endpoint=True)\n",
        "y = np.sin(x)"
      ],
      "execution_count": 0,
      "outputs": []
    },
    {
      "cell_type": "code",
      "metadata": {
        "id": "FBCngNczgO8V",
        "colab_type": "code",
        "colab": {}
      },
      "source": [
        "import matplotlib.pyplot as plt\n",
        "plt.plot(x,y,'b-s')\n",
        "plt.show()"
      ],
      "execution_count": 0,
      "outputs": []
    },
    {
      "cell_type": "code",
      "metadata": {
        "id": "JtBJ728HgO8W",
        "colab_type": "code",
        "colab": {}
      },
      "source": [
        "# plot the y>0 part\n",
        "mask = y>0\n",
        "print(mask)\n",
        "print(x[mask])"
      ],
      "execution_count": 0,
      "outputs": []
    },
    {
      "cell_type": "code",
      "metadata": {
        "id": "JcSa6avMgO8Z",
        "colab_type": "code",
        "colab": {}
      },
      "source": [
        "plt.plot(x,y,'b-s')\n",
        "plt.plot(x[mask],y[mask],'r-o')\n",
        "plt.show()"
      ],
      "execution_count": 0,
      "outputs": []
    },
    {
      "cell_type": "code",
      "metadata": {
        "id": "bALAF-2dgO8b",
        "colab_type": "code",
        "colab": {}
      },
      "source": [
        "mask1 = (y<0) & (x>-np.pi/2)"
      ],
      "execution_count": 0,
      "outputs": []
    },
    {
      "cell_type": "code",
      "metadata": {
        "id": "827tOLUDgO8f",
        "colab_type": "code",
        "colab": {}
      },
      "source": [
        "# plot between -pi/2 and pi/2\n",
        "plt.plot(x,y,'b-s')\n",
        "plt.plot(x[mask1],y[mask1],'m-^')\n",
        "plt.show()"
      ],
      "execution_count": 0,
      "outputs": []
    },
    {
      "cell_type": "markdown",
      "metadata": {
        "id": "dr9IHrvNgO8i",
        "colab_type": "text"
      },
      "source": [
        "# Examples\n",
        "## 1. Calculate Derivative of a function"
      ]
    },
    {
      "cell_type": "code",
      "metadata": {
        "id": "t49MEscWgO8j",
        "colab_type": "code",
        "colab": {}
      },
      "source": [
        "\"\"\"\n",
        "Calculate Derivative\n",
        "--------------------\n",
        "\"\"\"\n",
        "import numpy as np\n",
        "import matplotlib.pyplot as plt\n",
        "\n",
        "# calculate the sin() function on evenly spaced data.\n",
        "x = np.linspace(0,2*np.pi,101)\n",
        "y = np.sin(x)\n",
        "\n",
        "# use slicing to get dy and dx\n",
        "dy=y[1:]-y[:-1]\n",
        "dx=x[1:]-x[:-1]\n",
        "\n",
        "dy_dx = dy/dx\n",
        "cx = 0.5*(x[1:]+x[:-1])"
      ],
      "execution_count": 0,
      "outputs": []
    },
    {
      "cell_type": "code",
      "metadata": {
        "id": "pWOSdg0DgO8o",
        "colab_type": "code",
        "colab": {}
      },
      "source": [
        "# plt.subplot(1,2,1)\n",
        "plt.plot(x,y)\n",
        "plt.plot(cx,dy_dx,'xr')\n",
        "plt.plot(x,np.cos(x),'-g')\n",
        "plt.show()"
      ],
      "execution_count": 0,
      "outputs": []
    },
    {
      "cell_type": "markdown",
      "metadata": {
        "id": "xkCuC14jgO8q",
        "colab_type": "text"
      },
      "source": [
        "## 2. Change RGB Image to Grayscale"
      ]
    },
    {
      "cell_type": "code",
      "metadata": {
        "id": "zpVR4Ce5_-p-",
        "colab_type": "code",
        "colab": {}
      },
      "source": [
        "# download the file to local virtual machine\n",
        "! if [ ! -f \"cat.jpg\" ]; then wget 'https://raw.githubusercontent.com/lsuhpchelp/lbrnloniworkshop2019/master/day2_python/cat.jpg'; else echo 'file exists'; fi;\n",
        "! ls cat.jpg -lh"
      ],
      "execution_count": 0,
      "outputs": []
    },
    {
      "cell_type": "code",
      "metadata": {
        "id": "U28S_haSgO8q",
        "colab_type": "code",
        "colab": {}
      },
      "source": [
        "import imageio\n",
        "import matplotlib.pyplot as plt\n",
        "\n",
        "catjpgfile = 'cat.jpg'\n",
        "img = imageio.imread(catjpgfile)\n",
        "print(img)\n",
        "print(img.shape)"
      ],
      "execution_count": 0,
      "outputs": []
    },
    {
      "cell_type": "code",
      "metadata": {
        "id": "-nQaGEW9gO8v",
        "colab_type": "code",
        "colab": {}
      },
      "source": [
        "img_tinted = np.average(img,weights=[0.299,0.587,0.114],axis=2)\n",
        "print(img_tinted.shape)"
      ],
      "execution_count": 0,
      "outputs": []
    },
    {
      "cell_type": "code",
      "metadata": {
        "id": "lwPAoehGgO8x",
        "colab_type": "code",
        "colab": {}
      },
      "source": [
        "# Show the original image\n",
        "plt.subplot(1, 2, 1)\n",
        "plt.imshow(img)\n",
        "\n",
        "# Show the tinted image\n",
        "plt.subplot(1, 2, 2)\n",
        "\n",
        "# A slight gotcha with imshow is that it might give strange results\n",
        "# if presented with data that is not uint8. To work around this, we\n",
        "# explicitly cast the image to uint8 before displaying it.\n",
        "#plt.imshow(np.uint8(img_tinted), cmap=plt.get_cmap('gray'))\n",
        "plt.imshow(np.uint8(img_tinted), cmap='gray')\n",
        "#plt.imshow(img_tinted)\n",
        "plt.show()"
      ],
      "execution_count": 0,
      "outputs": []
    },
    {
      "cell_type": "markdown",
      "metadata": {
        "id": "bf8HKORPgO81",
        "colab_type": "text"
      },
      "source": [
        "## 3. Scipy Example: Regression"
      ]
    },
    {
      "cell_type": "code",
      "metadata": {
        "id": "Mpkqa5VDgO82",
        "colab_type": "code",
        "colab": {}
      },
      "source": [
        "from scipy import stats\n",
        "import numpy as np\n",
        "import matplotlib.pyplot as plt\n",
        "\n",
        "x = np.array([1, 2, 5, 7, 10, 15])\n",
        "y = np.array([2, 6, 7, 9, 14, 19]) \n",
        "slope, intercept, r_value, p_value, std_err = stats.linregress(x,y)"
      ],
      "execution_count": 0,
      "outputs": []
    },
    {
      "cell_type": "code",
      "metadata": {
        "id": "viJcEt39gO84",
        "colab_type": "code",
        "colab": {}
      },
      "source": [
        "plt.plot(x,y,'or')\n",
        "yh = x*slope + intercept\n",
        "plt.plot(x, yh, '-b')\n",
        "plt.show()"
      ],
      "execution_count": 0,
      "outputs": []
    },
    {
      "cell_type": "code",
      "metadata": {
        "id": "MMhwtCGhgO89",
        "colab_type": "code",
        "colab": {}
      },
      "source": [
        ""
      ],
      "execution_count": 0,
      "outputs": []
    }
  ]
}