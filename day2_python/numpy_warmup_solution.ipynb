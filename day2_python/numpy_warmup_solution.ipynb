{
  "nbformat": 4,
  "nbformat_minor": 0,
  "metadata": {
    "colab": {
      "name": "numpy_warmup_solution.ipynb",
      "version": "0.3.2",
      "provenance": [],
      "collapsed_sections": [],
      "include_colab_link": true
    },
    "language_info": {
      "codemirror_mode": {
        "name": "ipython",
        "version": 3
      },
      "file_extension": ".py",
      "mimetype": "text/x-python",
      "name": "python",
      "nbconvert_exporter": "python",
      "pygments_lexer": "ipython3",
      "version": "3.6.3"
    },
    "kernelspec": {
      "display_name": "Python 3",
      "language": "python",
      "name": "python3"
    }
  },
  "cells": [
    {
      "cell_type": "markdown",
      "metadata": {
        "id": "view-in-github",
        "colab_type": "text"
      },
      "source": [
        "<a href=\"https://colab.research.google.com/github/lsuhpchelp/lbrnloniworkshop2019/blob/master/day2_python/numpy_warmup_solution.ipynb\" target=\"_parent\"><img src=\"https://colab.research.google.com/assets/colab-badge.svg\" alt=\"Open In Colab\"/></a>"
      ]
    },
    {
      "cell_type": "code",
      "metadata": {
        "id": "TCG-MDuVxUPu",
        "colab_type": "code",
        "colab": {}
      },
      "source": [
        "from __future__ import print_function\n",
        "import numpy as np"
      ],
      "execution_count": 0,
      "outputs": []
    },
    {
      "cell_type": "markdown",
      "metadata": {
        "id": "cN-U2U8SxUP6",
        "colab_type": "text"
      },
      "source": [
        "# Warm-up Exercise for Numpy (Solution)"
      ]
    },
    {
      "cell_type": "markdown",
      "metadata": {
        "id": "wAkJOFkOxUP8",
        "colab_type": "text"
      },
      "source": [
        "#### Create a 1D array of numbers from 0 to 9\n",
        "\n",
        "- Desired output:\n",
        "\n",
        "> `[0 1 2 3 4 5 6 7 8 9]`"
      ]
    },
    {
      "cell_type": "code",
      "metadata": {
        "id": "0heujcijxUP9",
        "colab_type": "code",
        "outputId": "0b447ce5-e240-48eb-bff0-3802ea1977a8",
        "colab": {
          "base_uri": "https://localhost:8080/",
          "height": 33
        }
      },
      "source": [
        "arr = np.arange(10)\n",
        "print(arr)"
      ],
      "execution_count": 0,
      "outputs": [
        {
          "output_type": "stream",
          "text": [
            "[0 1 2 3 4 5 6 7 8 9]\n"
          ],
          "name": "stdout"
        }
      ]
    },
    {
      "cell_type": "markdown",
      "metadata": {
        "id": "lLmePbtfxUQA",
        "colab_type": "text"
      },
      "source": [
        "#### Convert the above 1D array to a 2D array with 2 rows\n",
        "\n",
        "- Desired output:\n",
        "\n",
        "```\n",
        "[[0 1 2 3 4]\n",
        " [5 6 7 8 9]]\n",
        " ```"
      ]
    },
    {
      "cell_type": "code",
      "metadata": {
        "id": "3MC6Ij6mxUQB",
        "colab_type": "code",
        "outputId": "14ac481c-a0e6-42b7-f45e-aec60feb9d3c",
        "colab": {
          "base_uri": "https://localhost:8080/",
          "height": 50
        }
      },
      "source": [
        "arr = arr.reshape(2,-1)\n",
        "print(arr)"
      ],
      "execution_count": 0,
      "outputs": [
        {
          "output_type": "stream",
          "text": [
            "[[0 1 2 3 4]\n",
            " [5 6 7 8 9]]\n"
          ],
          "name": "stdout"
        }
      ]
    },
    {
      "cell_type": "markdown",
      "metadata": {
        "id": "h9kPHkr9xUQE",
        "colab_type": "text"
      },
      "source": [
        "#### Calculate the square of a 1D vector, then reshape it to a column vector\n",
        "\n",
        "- Desired output:\n",
        "\n",
        "```\n",
        "[0 1 2 3 4]\n",
        "[ 0  1  4  9 16]\n",
        "[[ 0]\n",
        " [ 1]\n",
        " [ 4]\n",
        " [ 9]\n",
        " [16]]\n",
        " ```"
      ]
    },
    {
      "cell_type": "code",
      "metadata": {
        "id": "fT2tE-C3xUQG",
        "colab_type": "code",
        "outputId": "526c6863-582b-4003-8a06-02e8d7a695f2",
        "colab": {
          "base_uri": "https://localhost:8080/",
          "height": 134
        }
      },
      "source": [
        "a = np.arange(5)\n",
        "print(a)\n",
        "a2 = a**2\n",
        "print(a2)\n",
        "a2 = a2.reshape(-1,1)\n",
        "print(a2)"
      ],
      "execution_count": 0,
      "outputs": [
        {
          "output_type": "stream",
          "text": [
            "[0 1 2 3 4]\n",
            "[ 0  1  4  9 16]\n",
            "[[ 0]\n",
            " [ 1]\n",
            " [ 4]\n",
            " [ 9]\n",
            " [16]]\n"
          ],
          "name": "stdout"
        }
      ]
    },
    {
      "cell_type": "markdown",
      "metadata": {
        "id": "vu2WsDS6xUQO",
        "colab_type": "text"
      },
      "source": [
        "#### Suppose in an experiment, there are two variables x (from 1 to 5) and y (from 2 to 4), using numpy's broadcasting to calculate the matrix of all combinations of `x^2 + y` \n",
        "\n",
        "- Desired output:\n",
        "\n",
        "```\n",
        "[[ 3  4  5]\n",
        " [ 6  7  8]\n",
        " [11 12 13]\n",
        " [18 19 20]\n",
        " [27 28 29]]\n",
        " ```"
      ]
    },
    {
      "cell_type": "code",
      "metadata": {
        "id": "e_pawOwpxUQP",
        "colab_type": "code",
        "outputId": "c689964a-29e8-4c4c-e400-41d534da86be",
        "colab": {
          "base_uri": "https://localhost:8080/",
          "height": 201
        }
      },
      "source": [
        "x = np.arange(1,6).reshape(-1,1)\n",
        "print(x)\n",
        "y = np.arange(2,5)\n",
        "print(y)\n",
        "z = x**2 + y\n",
        "print(z)"
      ],
      "execution_count": 0,
      "outputs": [
        {
          "output_type": "stream",
          "text": [
            "[[1]\n",
            " [2]\n",
            " [3]\n",
            " [4]\n",
            " [5]]\n",
            "[2 3 4]\n",
            "[[ 3  4  5]\n",
            " [ 6  7  8]\n",
            " [11 12 13]\n",
            " [18 19 20]\n",
            " [27 28 29]]\n"
          ],
          "name": "stdout"
        }
      ]
    },
    {
      "cell_type": "markdown",
      "metadata": {
        "id": "E6zw95gexUQU",
        "colab_type": "text"
      },
      "source": [
        "#### Sum the rows and columns of the above matrix using Numpy's aggregation function\n",
        "\n",
        "- Desired output:\n",
        "\n",
        "```\n",
        "[65 70 75]\n",
        "[12 21 36 57 84]\n",
        "```"
      ]
    },
    {
      "cell_type": "code",
      "metadata": {
        "id": "GYnxEi67xUQW",
        "colab_type": "code",
        "outputId": "59a52106-f158-418d-aaab-beb3aee30ff6",
        "colab": {
          "base_uri": "https://localhost:8080/",
          "height": 50
        }
      },
      "source": [
        "row_sum = z.sum(axis=0)\n",
        "print(row_sum)\n",
        "col_sum = z.sum(axis=1)\n",
        "print(col_sum)"
      ],
      "execution_count": 0,
      "outputs": [
        {
          "output_type": "stream",
          "text": [
            "[65 70 75]\n",
            "[12 21 36 57 84]\n"
          ],
          "name": "stdout"
        }
      ]
    },
    {
      "cell_type": "markdown",
      "metadata": {
        "id": "6S3CnJFbxUQe",
        "colab_type": "text"
      },
      "source": [
        "#### In Numpy, matrix multiplication is done using the dot() function, verify the matrix multiplication result by writing for loops:\n",
        "\n",
        "Hint: (you only need to complete the below equation in the nested for loop)\n",
        "\n",
        "$$cc_{i,j} =\\sum_{k=1}^{nca} a_{i,k}b_{k,j} $$\n",
        "\n",
        "For Matrix multiplication, you can refer to the wiki link to recall the basics:\n",
        "\n",
        "https://en.wikipedia.org/wiki/Matrix_multiplication#Definition\n",
        "\n",
        "- Desired output:\n",
        "\n",
        "```\n",
        "a=\n",
        " [[0 1 2 3 4]\n",
        " [5 6 7 8 9]]\n",
        "b=\n",
        " [[0 1]\n",
        " [2 3]\n",
        " [4 5]\n",
        " [6 7]\n",
        " [8 9]]\n",
        "Using numpy's dot function: c=\n",
        " [[ 60  70]\n",
        " [160 195]]\n",
        "Verified results using for loop: cc=\n",
        " [[ 60  70]\n",
        " [160 195]]\n",
        " ```"
      ]
    },
    {
      "cell_type": "code",
      "metadata": {
        "id": "1tRT3h7mxUQf",
        "colab_type": "code",
        "outputId": "f5e2a95f-ba12-4d9f-eaf4-a699308975ff",
        "colab": {
          "base_uri": "https://localhost:8080/",
          "height": 268
        }
      },
      "source": [
        "nra = 2\n",
        "nca = 5\n",
        "ncb = 2\n",
        "a = np.arange(nra*nca).reshape(nra,-1)\n",
        "b = np.arange(nra*nca).reshape(-1,ncb)\n",
        "print(\"a=\\n\",a)\n",
        "print(\"b=\\n\",b)\n",
        "c = a.dot(b)\n",
        "print(\"Using numpy's dot function: c=\\n\",c)\n",
        "cc = np.zeros_like(c)\n",
        "\n",
        "# complete the vanilla version of matrix multiplication using for loop below:\n",
        "for i in np.arange(nra):\n",
        "    for j in np.arange(ncb):\n",
        "        cc[i,j] = 0\n",
        "        for k in np.arange(nca):\n",
        "            cc[i,j] += a[i,k]*b[k,j]\n",
        "print(\"Verified results using for loop: cc=\\n\",cc)"
      ],
      "execution_count": 0,
      "outputs": [
        {
          "output_type": "stream",
          "text": [
            "a=\n",
            " [[0 1 2 3 4]\n",
            " [5 6 7 8 9]]\n",
            "b=\n",
            " [[0 1]\n",
            " [2 3]\n",
            " [4 5]\n",
            " [6 7]\n",
            " [8 9]]\n",
            "Using numpy's dot function: c=\n",
            " [[ 60  70]\n",
            " [160 195]]\n",
            "Verified results using for loop: cc=\n",
            " [[ 60  70]\n",
            " [160 195]]\n"
          ],
          "name": "stdout"
        }
      ]
    },
    {
      "cell_type": "markdown",
      "metadata": {
        "id": "ofCipo7ViUMw",
        "colab_type": "text"
      },
      "source": [
        "#### Calculate the min, max and mean brain weight and body weight of a dataset\n",
        "\n",
        "In the demo notebook, we loaded the data from \"data.txt\" into a numpy array a, The 3 data columns include:\n",
        "1.  the index,\n",
        "1.  the brain weight;\n",
        "1. the body weight.\n",
        "\n",
        "Index 1-5 (row 1-5) are training set, index 6-9 (row 6-9) are test set\n",
        "\n",
        "Calculate \n",
        "\n",
        "1. min, max and mean brain weight for training set \n",
        "\n",
        "2. min, max and mean body weight for test set \n",
        "\n",
        "\n",
        "Note that you should not use a for loop to complete this."
      ]
    },
    {
      "cell_type": "code",
      "metadata": {
        "id": "ZCd0C8KBiS2-",
        "colab_type": "code",
        "outputId": "5cc766a3-4ad3-4f39-bb89-e4a236455263",
        "colab": {
          "base_uri": "https://localhost:8080/",
          "height": 669
        }
      },
      "source": [
        "# download the file to local virtual machine\n",
        "! if [ ! -f \"data.txt\" ]; then wget 'https://raw.githubusercontent.com/lsuhpchelp/lbrnloniworkshop2019/master/day2_python/data.txt'; else echo 'file exists'; fi;\n",
        "! cat data.txt # uncomment if you want to take a look at the data\n",
        "txtfile = 'data.txt'\n",
        "a = np.loadtxt(txtfile,skiprows=16,usecols={0,1,2},dtype=None,comments=\"#\")\n",
        "print(\"\\nloaded data:\\n\", a)"
      ],
      "execution_count": 0,
      "outputs": [
        {
          "output_type": "stream",
          "text": [
            "file exists\n",
            "#  x01.txt\n",
            "#    Academic Press, 1991, page 304,\n",
            "#    ISBN 0-12-656460-4.\n",
            "#    There are 62 rows of data.  The 3 data columns include:\n",
            "#      I,  the index,\n",
            "#      A1, the brain weight;\n",
            "#      B,  the body weight.\n",
            "#    We seek a model of the form:\n",
            "#\n",
            "#      B = A1 * X1.\n",
            "#\n",
            "3 columns\n",
            "62 rows\n",
            "Index\n",
            "Brain Weight\n",
            "Body Weight\n",
            "# here is the training set\n",
            " 1     3.385    44.500 abjhk\n",
            " 2     0.480    33.38  bc_00asdk\n",
            " 3     1.350     8.100 fb\n",
            " 4   465.000   423.000 cer\n",
            " 5    36.330   119.500 rg\n",
            "# here is the cross validation set\n",
            " 6    27.660   115.000 rk\n",
            " 7    14.830    98.200 fff\n",
            " 8     1.040     5.500 zxs\n",
            " 9     4.190    58.000 kij\n",
            "\n",
            "loaded data:\n",
            " [[  1.      3.385  44.5  ]\n",
            " [  2.      0.48   33.38 ]\n",
            " [  3.      1.35    8.1  ]\n",
            " [  4.    465.    423.   ]\n",
            " [  5.     36.33  119.5  ]\n",
            " [  6.     27.66  115.   ]\n",
            " [  7.     14.83   98.2  ]\n",
            " [  8.      1.04    5.5  ]\n",
            " [  9.      4.19   58.   ]]\n"
          ],
          "name": "stdout"
        }
      ]
    },
    {
      "cell_type": "code",
      "metadata": {
        "id": "5iad_tztkNMn",
        "colab_type": "code",
        "outputId": "acf545e7-0bc5-4337-a3b8-8cdd8ab8b535",
        "colab": {
          "base_uri": "https://localhost:8080/",
          "height": 84
        }
      },
      "source": [
        "train_min_brain_weight = np.min(a[0:4,1],axis=0)\n",
        "train_max_brain_weight = np.max(a[0:4,1],axis=0)\n",
        "train_avg_brain_weight = np.mean(a[0:4,1],axis=0)\n",
        "print(\"training set, brain weight statistics:\")\n",
        "print(\"Min=\",train_min_brain_weight)\n",
        "print(\"Max=\",train_max_brain_weight)\n",
        "print(\"Mean={:.2f}\".format(train_avg_brain_weight))"
      ],
      "execution_count": 0,
      "outputs": [
        {
          "output_type": "stream",
          "text": [
            "training set, brain weight statistics:\n",
            "Min= 0.48\n",
            "Max= 465.0\n",
            "Mean=117.55\n"
          ],
          "name": "stdout"
        }
      ]
    },
    {
      "cell_type": "code",
      "metadata": {
        "id": "jmIP5kisofY_",
        "colab_type": "code",
        "outputId": "5abcd997-d905-4c62-c421-63976e6ae256",
        "colab": {
          "base_uri": "https://localhost:8080/",
          "height": 84
        }
      },
      "source": [
        "test_min_body_weight = np.min(a[5:8,2],axis=0)\n",
        "test_max_body_weight = np.max(a[5:8,2],axis=0)\n",
        "test_avg_body_weight = np.mean(a[5:8,2],axis=0)\n",
        "print(\"test set, body weight statistics:\")\n",
        "print(\"Min=\",test_min_body_weight)\n",
        "print(\"Max=\",test_max_body_weight)\n",
        "print(\"Mean={:.2f}\".format(test_avg_body_weight))"
      ],
      "execution_count": 0,
      "outputs": [
        {
          "output_type": "stream",
          "text": [
            "test set, body weight statistics:\n",
            "Min= 5.5\n",
            "Max= 115.0\n",
            "Mean=72.90\n"
          ],
          "name": "stdout"
        }
      ]
    },
    {
      "cell_type": "code",
      "metadata": {
        "id": "pN1VCYNWp7Z0",
        "colab_type": "code",
        "colab": {}
      },
      "source": [
        ""
      ],
      "execution_count": 0,
      "outputs": []
    }
  ]
}