{
  "nbformat": 4,
  "nbformat_minor": 0,
  "metadata": {
    "colab": {
      "name": "numpy_warmup_solution.ipynb",
      "version": "0.3.2",
      "provenance": [],
      "include_colab_link": true
    },
    "language_info": {
      "codemirror_mode": {
        "name": "ipython",
        "version": 3
      },
      "file_extension": ".py",
      "mimetype": "text/x-python",
      "name": "python",
      "nbconvert_exporter": "python",
      "pygments_lexer": "ipython3",
      "version": "3.6.3"
    },
    "kernelspec": {
      "display_name": "Python 3",
      "language": "python",
      "name": "python3"
    }
  },
  "cells": [
    {
      "cell_type": "markdown",
      "metadata": {
        "id": "view-in-github",
        "colab_type": "text"
      },
      "source": [
        "<a href=\"https://colab.research.google.com/github/lsuhpchelp/lbrnloniworkshop2019/blob/master/day2_python/numpy_warmup_solution.ipynb\" target=\"_parent\"><img src=\"https://colab.research.google.com/assets/colab-badge.svg\" alt=\"Open In Colab\"/></a>"
      ]
    },
    {
      "cell_type": "code",
      "metadata": {
        "id": "TCG-MDuVxUPu",
        "colab_type": "code",
        "colab": {}
      },
      "source": [
        "from __future__ import print_function\n",
        "import numpy as np"
      ],
      "execution_count": 0,
      "outputs": []
    },
    {
      "cell_type": "markdown",
      "metadata": {
        "id": "cN-U2U8SxUP6",
        "colab_type": "text"
      },
      "source": [
        "# Warm-up Exercise for Numpy (Solution)"
      ]
    },
    {
      "cell_type": "markdown",
      "metadata": {
        "id": "wAkJOFkOxUP8",
        "colab_type": "text"
      },
      "source": [
        "#### Create a 1D array of numbers from 0 to 9\n",
        "\n",
        "- Desired output:\n",
        "\n",
        "> `[0 1 2 3 4 5 6 7 8 9]`"
      ]
    },
    {
      "cell_type": "code",
      "metadata": {
        "id": "0heujcijxUP9",
        "colab_type": "code",
        "outputId": "3dfdec16-9bd0-4bc7-80d0-836c574fe2d8",
        "colab": {
          "base_uri": "https://localhost:8080/",
          "height": 33
        }
      },
      "source": [
        "arr = np.arange(10)\n",
        "print(arr)"
      ],
      "execution_count": 0,
      "outputs": [
        {
          "output_type": "stream",
          "text": [
            "[0 1 2 3 4 5 6 7 8 9]\n"
          ],
          "name": "stdout"
        }
      ]
    },
    {
      "cell_type": "markdown",
      "metadata": {
        "id": "lLmePbtfxUQA",
        "colab_type": "text"
      },
      "source": [
        "#### Convert the above 1D array to a 2D array with 2 rows\n",
        "\n",
        "- Desired output:\n",
        "\n",
        "```\n",
        "[[0 1 2 3 4]\n",
        " [5 6 7 8 9]]\n",
        " ```"
      ]
    },
    {
      "cell_type": "code",
      "metadata": {
        "id": "3MC6Ij6mxUQB",
        "colab_type": "code",
        "outputId": "0ec94f72-e396-4441-984c-55068a73d746",
        "colab": {
          "base_uri": "https://localhost:8080/",
          "height": 50
        }
      },
      "source": [
        "arr = arr.reshape(2,-1)\n",
        "print(arr)"
      ],
      "execution_count": 0,
      "outputs": [
        {
          "output_type": "stream",
          "text": [
            "[[0 1 2 3 4]\n",
            " [5 6 7 8 9]]\n"
          ],
          "name": "stdout"
        }
      ]
    },
    {
      "cell_type": "markdown",
      "metadata": {
        "id": "h9kPHkr9xUQE",
        "colab_type": "text"
      },
      "source": [
        "#### Calculate the square of a 1D vector, then reshape it to a column vector\n",
        "\n",
        "- Desired output:\n",
        "\n",
        "```\n",
        "[0 1 2 3 4]\n",
        "[ 0  1  4  9 16]\n",
        "[[ 0]\n",
        " [ 1]\n",
        " [ 4]\n",
        " [ 9]\n",
        " [16]]\n",
        " ```"
      ]
    },
    {
      "cell_type": "code",
      "metadata": {
        "id": "fT2tE-C3xUQG",
        "colab_type": "code",
        "outputId": "7b6911ce-affd-4802-a24a-5526476ebdab",
        "colab": {
          "base_uri": "https://localhost:8080/",
          "height": 134
        }
      },
      "source": [
        "a = np.arange(5)\n",
        "print(a)\n",
        "a2 = a**2\n",
        "print(a2)\n",
        "a2 = a2.reshape(-1,1)\n",
        "print(a2)"
      ],
      "execution_count": 0,
      "outputs": [
        {
          "output_type": "stream",
          "text": [
            "[0 1 2 3 4]\n",
            "[ 0  1  4  9 16]\n",
            "[[ 0]\n",
            " [ 1]\n",
            " [ 4]\n",
            " [ 9]\n",
            " [16]]\n"
          ],
          "name": "stdout"
        }
      ]
    },
    {
      "cell_type": "markdown",
      "metadata": {
        "id": "vu2WsDS6xUQO",
        "colab_type": "text"
      },
      "source": [
        "#### Suppose in an experiment, there are two variables x (from 1 to 5) and y (from 2 to 4), using numpy's broadcasting to calculate the matrix of all combinations of `x^2 + y` \n",
        "\n",
        "- Desired output:\n",
        "\n",
        "```\n",
        "[[ 3  4  5]\n",
        " [ 6  7  8]\n",
        " [11 12 13]\n",
        " [18 19 20]\n",
        " [27 28 29]]\n",
        " ```"
      ]
    },
    {
      "cell_type": "code",
      "metadata": {
        "id": "e_pawOwpxUQP",
        "colab_type": "code",
        "outputId": "aefd5983-b385-4ce5-b480-6da6a5296825",
        "colab": {
          "base_uri": "https://localhost:8080/",
          "height": 201
        }
      },
      "source": [
        "x = np.arange(1,6).reshape(-1,1)\n",
        "print(x)\n",
        "y = np.arange(2,5)\n",
        "print(y)\n",
        "z = x**2 + y\n",
        "print(z)"
      ],
      "execution_count": 0,
      "outputs": [
        {
          "output_type": "stream",
          "text": [
            "[[1]\n",
            " [2]\n",
            " [3]\n",
            " [4]\n",
            " [5]]\n",
            "[2 3 4]\n",
            "[[ 3  4  5]\n",
            " [ 6  7  8]\n",
            " [11 12 13]\n",
            " [18 19 20]\n",
            " [27 28 29]]\n"
          ],
          "name": "stdout"
        }
      ]
    },
    {
      "cell_type": "markdown",
      "metadata": {
        "id": "E6zw95gexUQU",
        "colab_type": "text"
      },
      "source": [
        "#### Sum the rows and columns of the above matrix using Numpy's aggregation function\n",
        "\n",
        "- Desired output:\n",
        "\n",
        "```\n",
        "[65 70 75]\n",
        "[12 21 36 57 84]\n",
        "```"
      ]
    },
    {
      "cell_type": "code",
      "metadata": {
        "id": "GYnxEi67xUQW",
        "colab_type": "code",
        "outputId": "1ed5fa55-b15e-4dc2-e03c-8960b7d7e4c2",
        "colab": {
          "base_uri": "https://localhost:8080/",
          "height": 50
        }
      },
      "source": [
        "row_sum = z.sum(axis=0)\n",
        "print(row_sum)\n",
        "col_sum = z.sum(axis=1)\n",
        "print(col_sum)"
      ],
      "execution_count": 0,
      "outputs": [
        {
          "output_type": "stream",
          "text": [
            "[65 70 75]\n",
            "[12 21 36 57 84]\n"
          ],
          "name": "stdout"
        }
      ]
    },
    {
      "cell_type": "markdown",
      "metadata": {
        "id": "6S3CnJFbxUQe",
        "colab_type": "text"
      },
      "source": [
        "#### In Numpy, matrix multiplication is done using the dot() function, verify the matrix multiplication result by writing for loops:\n",
        "\n",
        "- Desired output:\n",
        "\n",
        "```\n",
        "a=\n",
        " [[0 1 2 3 4]\n",
        " [5 6 7 8 9]]\n",
        "b=\n",
        " [[0 1]\n",
        " [2 3]\n",
        " [4 5]\n",
        " [6 7]\n",
        " [8 9]]\n",
        "Using numpy's dot function: c=\n",
        " [[ 60  70]\n",
        " [160 195]]\n",
        "Verified results using for loop: cc=\n",
        " [[ 60  70]\n",
        " [160 195]]\n",
        " ```"
      ]
    },
    {
      "cell_type": "code",
      "metadata": {
        "id": "1tRT3h7mxUQf",
        "colab_type": "code",
        "outputId": "9128e024-a6de-47a0-d635-f312dabd57a4",
        "colab": {
          "base_uri": "https://localhost:8080/",
          "height": 268
        }
      },
      "source": [
        "nra = 2\n",
        "nca = 5\n",
        "ncb = 2\n",
        "a = np.arange(nra*nca).reshape(nra,-1)\n",
        "b = np.arange(nra*nca).reshape(-1,ncb)\n",
        "print(\"a=\\n\",a)\n",
        "print(\"b=\\n\",b)\n",
        "c = a.dot(b)\n",
        "print(\"Using numpy's dot function: c=\\n\",c)\n",
        "cc = np.zeros_like(c)\n",
        "\n",
        "# complete the vanilla version of matrix multiplication using for loop below:\n",
        "for i in np.arange(nra):\n",
        "    for j in np.arange(ncb):\n",
        "        cc[i,j] = 0\n",
        "        for k in np.arange(nca):\n",
        "            cc[i,j] += a[i,k]*b[k,j]\n",
        "print(\"Verified results using for loop: cc=\\n\",cc)"
      ],
      "execution_count": 0,
      "outputs": [
        {
          "output_type": "stream",
          "text": [
            "a=\n",
            " [[0 1 2 3 4]\n",
            " [5 6 7 8 9]]\n",
            "b=\n",
            " [[0 1]\n",
            " [2 3]\n",
            " [4 5]\n",
            " [6 7]\n",
            " [8 9]]\n",
            "Using numpy's dot function: c=\n",
            " [[ 60  70]\n",
            " [160 195]]\n",
            "Verified results using for loop: cc=\n",
            " [[ 60  70]\n",
            " [160 195]]\n"
          ],
          "name": "stdout"
        }
      ]
    },
    {
      "cell_type": "code",
      "metadata": {
        "id": "d19ot2pfxUQl",
        "colab_type": "code",
        "colab": {}
      },
      "source": [
        ""
      ],
      "execution_count": 0,
      "outputs": []
    }
  ]
}