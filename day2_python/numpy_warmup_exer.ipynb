{
  "nbformat": 4,
  "nbformat_minor": 0,
  "metadata": {
    "colab": {
      "name": "numpy_warmup_exer.ipynb",
      "version": "0.3.2",
      "provenance": [],
      "include_colab_link": true
    },
    "language_info": {
      "codemirror_mode": {
        "name": "ipython",
        "version": 3
      },
      "file_extension": ".py",
      "mimetype": "text/x-python",
      "name": "python",
      "nbconvert_exporter": "python",
      "pygments_lexer": "ipython3",
      "version": "3.6.4"
    },
    "kernelspec": {
      "display_name": "Python 3",
      "language": "python",
      "name": "python3"
    }
  },
  "cells": [
    {
      "cell_type": "markdown",
      "metadata": {
        "id": "view-in-github",
        "colab_type": "text"
      },
      "source": [
        "<a href=\"https://colab.research.google.com/github/lsuhpchelp/lbrnloniworkshop2019/blob/master/day2_python/numpy_warmup_exer.ipynb\" target=\"_parent\"><img src=\"https://colab.research.google.com/assets/colab-badge.svg\" alt=\"Open In Colab\"/></a>"
      ]
    },
    {
      "cell_type": "code",
      "metadata": {
        "id": "8UqjNabksdrD",
        "colab_type": "code",
        "colab": {}
      },
      "source": [
        "from __future__ import print_function\n",
        "import numpy as np"
      ],
      "execution_count": 0,
      "outputs": []
    },
    {
      "cell_type": "markdown",
      "metadata": {
        "id": "moft_pMusdrL",
        "colab_type": "text"
      },
      "source": [
        "# Warm-up Exercise for Numpy"
      ]
    },
    {
      "cell_type": "markdown",
      "metadata": {
        "id": "PWibTAqRsdrN",
        "colab_type": "text"
      },
      "source": [
        "#### Create a 1D array of numbers from 0 to 9\n",
        "\n",
        "- Desired output:\n",
        "\n",
        "> `[0 1 2 3 4 5 6 7 8 9]`"
      ]
    },
    {
      "cell_type": "code",
      "metadata": {
        "id": "ARM2TemzsdrO",
        "colab_type": "code",
        "colab": {}
      },
      "source": [
        "arr = np.arange(10)\n",
        "print(arr)"
      ],
      "execution_count": 0,
      "outputs": []
    },
    {
      "cell_type": "markdown",
      "metadata": {
        "id": "N8gynHpPsdrT",
        "colab_type": "text"
      },
      "source": [
        "#### Convert the above 1D array to a 2D array with 2 rows\n",
        "\n",
        "- Desired output:\n",
        "\n",
        "```\n",
        "> [[0 1 2 3 4]\n",
        "   [5 6 7 8 9]]\n",
        " ```"
      ]
    },
    {
      "cell_type": "code",
      "metadata": {
        "id": "v6gEGTz6sdrU",
        "colab_type": "code",
        "colab": {}
      },
      "source": [
        "\n",
        "print(arr)"
      ],
      "execution_count": 0,
      "outputs": []
    },
    {
      "cell_type": "markdown",
      "metadata": {
        "id": "himJOppusdrZ",
        "colab_type": "text"
      },
      "source": [
        "#### Calculate the square of a 1D vector, then reshape it to a column vector\n",
        "\n",
        "- Desired output:\n",
        "\n",
        "```\n",
        "[0 1 2 3 4]\n",
        "[ 0  1  4  9 16]\n",
        "[[ 0]\n",
        " [ 1]\n",
        " [ 4]\n",
        " [ 9]\n",
        " [16]]\n",
        " ```"
      ]
    },
    {
      "cell_type": "code",
      "metadata": {
        "id": "Q3225D4Ysdrd",
        "colab_type": "code",
        "colab": {}
      },
      "source": [
        "a = np.arange(5)\n",
        "print(a)\n",
        "\n",
        "print(a2)\n",
        "\n",
        "print(a2)"
      ],
      "execution_count": 0,
      "outputs": []
    },
    {
      "cell_type": "markdown",
      "metadata": {
        "id": "njC4cbl5sdrh",
        "colab_type": "text"
      },
      "source": [
        "#### Suppose in an experiment, there are two variables x (from 1 to 5) and y (from 2 to 4), using numpy's broadcasting to calculate the matrix of all combinations of `x^2 + y` \n",
        "\n",
        "- Desired output:\n",
        "\n",
        "\n",
        ">\n",
        "```\n",
        "[[ 3  4  5]\n",
        " [ 6  7  8]\n",
        " [11 12 13]\n",
        " [18 19 20]\n",
        " [27 28 29]]\n",
        " ```"
      ]
    },
    {
      "cell_type": "code",
      "metadata": {
        "id": "zAdpTu43sdri",
        "colab_type": "code",
        "colab": {}
      },
      "source": [
        "x = np.arange(1,6).reshape(-1,1)\n",
        "print(x)\n",
        "y = np.arange(2,5)\n",
        "print(y)\n",
        "\n",
        "print(z)"
      ],
      "execution_count": 0,
      "outputs": []
    },
    {
      "cell_type": "markdown",
      "metadata": {
        "id": "cje4oMbusdrm",
        "colab_type": "text"
      },
      "source": [
        "#### Sum the rows and columns of the above matrix using Numpy's aggregation function\n",
        "\n",
        "- Desired output:\n",
        "\n",
        "> \n",
        "```\n",
        "[65 70 75]\n",
        "[12 21 36 57 84]\n",
        "```"
      ]
    },
    {
      "cell_type": "code",
      "metadata": {
        "id": "m4lTMcPXsdro",
        "colab_type": "code",
        "colab": {}
      },
      "source": [
        "\n",
        "print(row_sum)\n",
        "\n",
        "print(col_sum)"
      ],
      "execution_count": 0,
      "outputs": []
    },
    {
      "cell_type": "markdown",
      "metadata": {
        "id": "bD6vRpoSsdrt",
        "colab_type": "text"
      },
      "source": [
        "#### In Numpy, matrix multiplication is done using the dot() function, verify the matrix multiplication result by writing for loops:\n",
        "\n",
        "- Desired output:\n",
        "\n",
        "```\n",
        "a=\n",
        " [[0 1 2 3 4]\n",
        " [5 6 7 8 9]]\n",
        "b=\n",
        " [[0 1]\n",
        " [2 3]\n",
        " [4 5]\n",
        " [6 7]\n",
        " [8 9]]\n",
        "Using numpy's dot function: c=\n",
        " [[ 60  70]\n",
        " [160 195]]\n",
        "Verified results using for loop: cc=\n",
        " [[ 60  70]\n",
        " [160 195]]\n",
        " ```"
      ]
    },
    {
      "cell_type": "code",
      "metadata": {
        "id": "D32K6zRlsdru",
        "colab_type": "code",
        "colab": {}
      },
      "source": [
        "nra = 2\n",
        "nca = 5\n",
        "ncb = 2\n",
        "a = np.arange(nra*nca).reshape(nra,-1)\n",
        "b = np.arange(nra*nca).reshape(-1,ncb)\n",
        "print(\"a=\\n\",a)\n",
        "print(\"b=\\n\",b)\n",
        "c = a.dot(b)\n",
        "print(\"Using numpy's dot function: c=\\n\",c)\n",
        "cc = np.zeros_like(c)\n",
        "\n",
        "# complete the naive for loop below:\n",
        "for i in np.arange(nra):\n",
        "    for j in np.arange(ncb):\n",
        "        cc[i,j] = 0\n",
        "        for k in np.arange(nca):\n",
        "            # TODO: complete this line\n",
        "            pass\n",
        "print(\"Verified results using for loop: cc=\\n\",cc)"
      ],
      "execution_count": 0,
      "outputs": []
    },
    {
      "cell_type": "code",
      "metadata": {
        "id": "W52xp_yYsdrz",
        "colab_type": "code",
        "colab": {}
      },
      "source": [
        ""
      ],
      "execution_count": 0,
      "outputs": []
    }
  ]
}