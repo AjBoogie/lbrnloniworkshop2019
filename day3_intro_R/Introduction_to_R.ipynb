{
  "nbformat": 4,
  "nbformat_minor": 0,
  "metadata": {
    "colab": {
      "name": "Introduction to R.ipynb",
      "version": "0.3.2",
      "provenance": [],
      "toc_visible": true
    },
    "language_info": {
      "codemirror_mode": "r",
      "file_extension": ".r",
      "mimetype": "text/x-r-source",
      "name": "R",
      "pygments_lexer": "r",
      "version": "3.3.1"
    },
    "kernelspec": {
      "display_name": "R",
      "language": "R",
      "name": "ir"
    }
  },
  "cells": [
    {
      "cell_type": "markdown",
      "metadata": {
        "id": "VD6Od8-bfG8_",
        "colab_type": "text"
      },
      "source": [
        "# Before We Start"
      ]
    },
    {
      "cell_type": "markdown",
      "metadata": {
        "id": "THVk8YtgfLvF",
        "colab_type": "text"
      },
      "source": [
        "* **DO NOT CHANGE THE RUNTIME BECAUSE YOU WON'T BE ABLE TO CHANGE IT BACK!**"
      ]
    },
    {
      "cell_type": "code",
      "metadata": {
        "id": "be6urrizhGk9",
        "colab_type": "code",
        "colab": {}
      },
      "source": [
        "require(datasets)\n",
        "require(ggplot2)\n",
        "require(gcookbook)"
      ],
      "execution_count": 0,
      "outputs": []
    },
    {
      "cell_type": "markdown",
      "metadata": {
        "id": "zQLKMs59rpvi",
        "colab_type": "text"
      },
      "source": [
        "# Outline\n",
        "\n",
        "* How to run R codes\n",
        "* Data classes and objects in R\n",
        "* Flow control structures\n",
        "* Functions\n",
        "* How to install and load R packages\n",
        "\n"
      ]
    },
    {
      "cell_type": "markdown",
      "metadata": {
        "id": "lW8M-lb-5Sqm",
        "colab_type": "text"
      },
      "source": [
        "# Introduction"
      ]
    },
    {
      "cell_type": "markdown",
      "metadata": {
        "id": "QJGFuLmZsrCT",
        "colab_type": "text"
      },
      "source": [
        "## What is R\n",
        "\n",
        "* R is an integrated suite of software facilities for\n",
        "  * importing, storing, exporting and manipulating data;\n",
        "  * scientific computation;\n",
        "  * conducting statistical analyses;\n",
        "  * displaying the results by tables, graphs, etc.\n",
        "* Highly customizable via thousands of freely available packages.\n",
        "  * R is also a platform for the development and implementation of new algorithms.\n",
        "  * Many graphical user interface to R both free and commercial (e.g. Rstudio and Revolution R (now Microsoft R) )."
      ]
    },
    {
      "cell_type": "markdown",
      "metadata": {
        "id": "OIeuD2OxtFph",
        "colab_type": "text"
      },
      "source": [
        "## History of R\n",
        "\n",
        "* R is a dialect of the S language\n",
        "  * S was created in 1976 at the Bell Labs as an internal statistical analysis environment\n",
        "  * Goal of S was “to turn ideas into software, quickly and faithfully\".\n",
        "  * Most well known implementation is S-plus (most recent stable release was in 2010). S-Plus integrates S with a nice GUI interface and full customer support.\n",
        "* R was created by Ross Ihaka and Robert Gentleman at the University of Auckland, New Zealand.\n",
        "* The R core group was formed in 1997, who controls the source code of R (written in C)\n",
        "* The first stable version R 1.0.0 was released in 2000\n",
        "* Latest stable version is 3.5.2 released on Dec 20, 2018"
      ]
    },
    {
      "cell_type": "markdown",
      "metadata": {
        "id": "nOe0m3Gdteds",
        "colab_type": "text"
      },
      "source": [
        "## Features of R\n",
        "\n",
        "* R is a language designed for statistical analysis\n",
        "  * Available on most platform/OS\n",
        "  * Rich data analysis functionalities and sophisticated graphical capabilities\n",
        "* Active development and very active community\n",
        "  * CRAN: The Comprehensive R Archive Network\n",
        "  * Source code and binaries, user contributed packages and documentation\n",
        "  * More than 13,000 packages available on CRAN (as of March 2018)\n",
        "  * 6,000 three years ago\n",
        " * Free to use!"
      ]
    },
    {
      "cell_type": "markdown",
      "metadata": {
        "id": "3xIyLZSX5ZYA",
        "colab_type": "text"
      },
      "source": [
        "# How to Run R Codes"
      ]
    },
    {
      "cell_type": "markdown",
      "metadata": {
        "id": "v_4TM4yIDHwM",
        "colab_type": "text"
      },
      "source": [
        "## Three options\n",
        "\n",
        "* Rstudio\n",
        "* Colab\n",
        "* HPC systems"
      ]
    },
    {
      "cell_type": "markdown",
      "metadata": {
        "id": "xYFRMtbvJXIb",
        "colab_type": "text"
      },
      "source": [
        "## Colab\n",
        "\n",
        "This is what we are using right now. No setup is needed, but we don't have much control either. For instance, we have very limited control on where the data is stored."
      ]
    },
    {
      "cell_type": "markdown",
      "metadata": {
        "id": "RUe1W-Y-DTE2",
        "colab_type": "text"
      },
      "source": [
        "## Rstudio\n",
        "\n",
        "* Integrated Development Environment for R\n",
        "* Free to use\n",
        "* Similar user interface to other, dividing the screen into panes\n",
        "  * Source code\n",
        "  * Console\n",
        "  * Workspace\n",
        "  * Others (help message, plot etc.)\n",
        "* Rstudio in a desktop environment is better suited for development and/or a limited number of small jobs"
      ]
    },
    {
      "cell_type": "markdown",
      "metadata": {
        "id": "-s8HJvrzLus4",
        "colab_type": "text"
      },
      "source": [
        ""
      ]
    },
    {
      "cell_type": "markdown",
      "metadata": {
        "id": "30bP-0GhLuwQ",
        "colab_type": "text"
      },
      "source": [
        "## HPC Systems\n",
        "\n",
        "* Clusters are better for resource‐demanding jobs\n",
        "  * Many small tasks, or\n",
        "  * Resource-intense tasks"
      ]
    },
    {
      "cell_type": "markdown",
      "metadata": {
        "id": "2-a6403H6Pf_",
        "colab_type": "text"
      },
      "source": [
        "# Basic Syntax"
      ]
    },
    {
      "cell_type": "markdown",
      "metadata": {
        "id": "8Y51nnhBst0y",
        "colab_type": "text"
      },
      "source": [
        "## Getting help"
      ]
    },
    {
      "cell_type": "markdown",
      "metadata": {
        "id": "KlrtggX9dxfA",
        "colab_type": "text"
      },
      "source": [
        "Getting help is easy in R. \n",
        "\n",
        "For specific functions, use **?\\<name of funciton>**. "
      ]
    },
    {
      "cell_type": "code",
      "metadata": {
        "id": "OowbAimHd1ft",
        "colab_type": "code",
        "colab": {}
      },
      "source": [
        "?class"
      ],
      "execution_count": 0,
      "outputs": []
    },
    {
      "cell_type": "markdown",
      "metadata": {
        "id": "Hdxaxob7s5V2",
        "colab_type": "text"
      },
      "source": [
        "For a keyword search, use **??\\<key word>**"
      ]
    },
    {
      "cell_type": "code",
      "metadata": {
        "id": "YyQSzEjCs4d1",
        "colab_type": "code",
        "colab": {}
      },
      "source": [
        "??assignment"
      ],
      "execution_count": 0,
      "outputs": []
    },
    {
      "cell_type": "markdown",
      "metadata": {
        "id": "aMZx_TR9Dw2p",
        "colab_type": "text"
      },
      "source": [
        "## Assignment\n",
        "\n",
        "For new users, the biggest difference from other languages is perhaps the assignment operator: **R uses \"<-\" instead of \"=\"**. "
      ]
    },
    {
      "cell_type": "code",
      "metadata": {
        "id": "Eu1cJEhrD_aT",
        "colab_type": "code",
        "colab": {},
        "cellView": "both"
      },
      "source": [
        "x <- 2*4"
      ],
      "execution_count": 0,
      "outputs": []
    },
    {
      "cell_type": "markdown",
      "metadata": {
        "id": "TFi6rURhD4uB",
        "colab_type": "text"
      },
      "source": [
        "The contents of the object \"x\" can be viewed by typing value at the R prompt."
      ]
    },
    {
      "cell_type": "code",
      "metadata": {
        "id": "toTMccSpEClz",
        "colab_type": "code",
        "colab": {}
      },
      "source": [
        "x"
      ],
      "execution_count": 0,
      "outputs": []
    },
    {
      "cell_type": "markdown",
      "metadata": {
        "id": "xuOcTBQhY29q",
        "colab_type": "text"
      },
      "source": [
        "Actually, \"=\" works too, but there is some subtle differences, which are explained [here](https://renkun.me/2014/01/28/difference-between-assignment-operators-in-r/). "
      ]
    },
    {
      "cell_type": "code",
      "metadata": {
        "id": "yKI9d3beMFkM",
        "colab_type": "code",
        "colab": {}
      },
      "source": [
        "y = 2 * 4\n",
        "y"
      ],
      "execution_count": 0,
      "outputs": []
    },
    {
      "cell_type": "markdown",
      "metadata": {
        "id": "uiXEWIdZNLcF",
        "colab_type": "text"
      },
      "source": [
        "Again, \"<-\" is the recommended way of assigning a value to a variable."
      ]
    },
    {
      "cell_type": "markdown",
      "metadata": {
        "id": "VmiULzr8sFGu",
        "colab_type": "text"
      },
      "source": [
        "## Comment"
      ]
    },
    {
      "cell_type": "markdown",
      "metadata": {
        "id": "pnhHTCtQsI5z",
        "colab_type": "text"
      },
      "source": [
        "In R, any line staring with \"#\" will be interpreted as a comment."
      ]
    },
    {
      "cell_type": "code",
      "metadata": {
        "id": "oSwNxd-2sO_C",
        "colab_type": "code",
        "colab": {}
      },
      "source": [
        "# 2*4\n",
        "# Nothing will happen."
      ],
      "execution_count": 0,
      "outputs": []
    },
    {
      "cell_type": "markdown",
      "metadata": {
        "id": "aj5qv2UPaTSd",
        "colab_type": "text"
      },
      "source": [
        "## Legal R Names\n",
        "\n",
        "Names for R objects can be any combination of letters, numbers and periods (.), but must not start with a number or a period.\n",
        "\n"
      ]
    },
    {
      "cell_type": "code",
      "metadata": {
        "id": "YSN3PuAFVJu1",
        "colab_type": "code",
        "colab": {}
      },
      "source": [
        "num.Cats.2 <- 4\n",
        ".num.Cats <-5"
      ],
      "execution_count": 0,
      "outputs": []
    },
    {
      "cell_type": "markdown",
      "metadata": {
        "id": "ss3qglkYVg46",
        "colab_type": "text"
      },
      "source": [
        "R is case sensitive, e.g. X and x are different in R."
      ]
    },
    {
      "cell_type": "code",
      "metadata": {
        "id": "QKKCqeEnaokZ",
        "colab_type": "code",
        "cellView": "code",
        "colab": {}
      },
      "source": [
        "x <- 4\n",
        "print(\"The value of x is:\")\n",
        "x\n",
        "print(\"The value of X is:\")\n",
        "X"
      ],
      "execution_count": 0,
      "outputs": []
    },
    {
      "cell_type": "markdown",
      "metadata": {
        "id": "wkGt0NWQdUwj",
        "colab_type": "text"
      },
      "source": [
        "## Arithematic operations\n",
        "\n",
        "Basic arithematic operators: +, -, *, /, ^"
      ]
    },
    {
      "cell_type": "code",
      "metadata": {
        "id": "DXcHNQF9dmci",
        "colab_type": "code",
        "colab": {}
      },
      "source": [
        "1 + 2*4^(3/5)"
      ],
      "execution_count": 0,
      "outputs": []
    },
    {
      "cell_type": "markdown",
      "metadata": {
        "id": "88HfwU_QWEJO",
        "colab_type": "text"
      },
      "source": [
        "Scientific notation: 1e-2"
      ]
    },
    {
      "cell_type": "code",
      "metadata": {
        "id": "I_wfRTY7WHUh",
        "colab_type": "code",
        "colab": {}
      },
      "source": [
        "1e2 + 1e-2"
      ],
      "execution_count": 0,
      "outputs": []
    },
    {
      "cell_type": "markdown",
      "metadata": {
        "id": "Um6jDvCUdnLu",
        "colab_type": "text"
      },
      "source": [
        "Specail values: Inf (non-finite numeric values), NaN (not a number)"
      ]
    },
    {
      "cell_type": "code",
      "metadata": {
        "id": "DeB4Mt5geDNH",
        "colab_type": "code",
        "colab": {}
      },
      "source": [
        "1 / 0\n",
        "-1 / 0\n",
        "1/0 - 1/0"
      ],
      "execution_count": 0,
      "outputs": []
    },
    {
      "cell_type": "markdown",
      "metadata": {
        "id": "a3ye6Yqt6r_d",
        "colab_type": "text"
      },
      "source": [
        "# Data Classes and Objects"
      ]
    },
    {
      "cell_type": "markdown",
      "metadata": {
        "id": "fA2WGM3oGiae",
        "colab_type": "text"
      },
      "source": [
        "## Atomic Date Types\n",
        "\n",
        "R has five atomic classes\n",
        "* Numeric (double)\n",
        "  * Numbers in R are treated as numeric unless specified otherwise.\n",
        "\n",
        "Note: the function **class()** reveals the class of a data object.\n"
      ]
    },
    {
      "cell_type": "code",
      "metadata": {
        "id": "i2elyxrhWhPy",
        "colab_type": "code",
        "colab": {}
      },
      "source": [
        "class(9.3)\n",
        "class(3)"
      ],
      "execution_count": 0,
      "outputs": []
    },
    {
      "cell_type": "markdown",
      "metadata": {
        "id": "McaKmgZMWl51",
        "colab_type": "text"
      },
      "source": [
        "* Integer"
      ]
    },
    {
      "cell_type": "code",
      "metadata": {
        "id": "cvk20CBhWnj-",
        "colab_type": "code",
        "colab": {}
      },
      "source": [
        "class(as.integer(3))"
      ],
      "execution_count": 0,
      "outputs": []
    },
    {
      "cell_type": "markdown",
      "metadata": {
        "id": "yYB1TMMEWrcJ",
        "colab_type": "text"
      },
      "source": [
        "* Complex"
      ]
    },
    {
      "cell_type": "code",
      "metadata": {
        "id": "SAoGwy9MWtM_",
        "colab_type": "code",
        "colab": {}
      },
      "source": [
        "class(3+2i)"
      ],
      "execution_count": 0,
      "outputs": []
    },
    {
      "cell_type": "markdown",
      "metadata": {
        "id": "lKY4G4AnW_8x",
        "colab_type": "text"
      },
      "source": [
        "* Character"
      ]
    },
    {
      "cell_type": "code",
      "metadata": {
        "id": "ZSwPOLdTXCL6",
        "colab_type": "code",
        "colab": {}
      },
      "source": [
        "class(\"a\")\n",
        "class(\"a cat\")\n",
        "class(a)"
      ],
      "execution_count": 0,
      "outputs": []
    },
    {
      "cell_type": "markdown",
      "metadata": {
        "id": "MTbSNbhBXTL_",
        "colab_type": "text"
      },
      "source": [
        "* Logical (T, TRUE, F, FALSE)"
      ]
    },
    {
      "cell_type": "code",
      "metadata": {
        "id": "xkfyJst0g9ju",
        "colab_type": "code",
        "colab": {}
      },
      "source": [
        "class(TRUE)\n",
        "class(T)\n",
        "class(True)"
      ],
      "execution_count": 0,
      "outputs": []
    },
    {
      "cell_type": "markdown",
      "metadata": {
        "id": "lqirzoNChx7X",
        "colab_type": "text"
      },
      "source": [
        "The code missing values in R is NA. The is.\\<type>()functions can be used to check for the data classes."
      ]
    },
    {
      "cell_type": "markdown",
      "metadata": {
        "id": "HTcdbbaHiDx9",
        "colab_type": "text"
      },
      "source": [
        "## Derivative Data Types\n",
        "\n",
        "There are many derivative data types. For exmple, the \"Date\" type."
      ]
    },
    {
      "cell_type": "code",
      "metadata": {
        "id": "B0xwwtZKiLCc",
        "colab_type": "code",
        "colab": {}
      },
      "source": [
        "require(lubridate)\n",
        "today()\n",
        "class(today())"
      ],
      "execution_count": 0,
      "outputs": []
    },
    {
      "cell_type": "markdown",
      "metadata": {
        "id": "_HQcqdnMjDM6",
        "colab_type": "text"
      },
      "source": [
        "## Data Objects\n",
        "\n",
        "* R Data objects\n",
        "  * Vector: elements of same class, one dimension\n",
        "  * Matrix: elements of same class, two dimensions\n",
        "  * Array: elements of same class, 2+ dimensions\n",
        "  * Lists: elements can be any objects\n",
        "  * Data frames: “datasets” where columns are variables and rows are observations"
      ]
    },
    {
      "cell_type": "markdown",
      "metadata": {
        "id": "f_kFtIRtjW8S",
        "colab_type": "text"
      },
      "source": [
        "### Vectors\n",
        "\n"
      ]
    },
    {
      "cell_type": "markdown",
      "metadata": {
        "id": "GpbKM_HNeirE",
        "colab_type": "text"
      },
      "source": [
        "Vectors can only contain elements of the same data type."
      ]
    },
    {
      "cell_type": "markdown",
      "metadata": {
        "id": "SPX6G_1fcc4J",
        "colab_type": "text"
      },
      "source": [
        "Vectors can be constructed by \n",
        "* The **c()** funtion (concatenate):"
      ]
    },
    {
      "cell_type": "code",
      "metadata": {
        "id": "CUfcZG3CAK9f",
        "colab_type": "code",
        "colab": {}
      },
      "source": [
        "d <- c(1,2,3)\n",
        "d"
      ],
      "execution_count": 0,
      "outputs": []
    },
    {
      "cell_type": "code",
      "metadata": {
        "id": "s676HbyOAQER",
        "colab_type": "code",
        "colab": {}
      },
      "source": [
        "d <- c(\"a\",\"b\",\"c\")\n",
        "d"
      ],
      "execution_count": 0,
      "outputs": []
    },
    {
      "cell_type": "markdown",
      "metadata": {
        "id": "2is8Y5wgcsiO",
        "colab_type": "text"
      },
      "source": [
        "* The **vector()** function"
      ]
    },
    {
      "cell_type": "code",
      "metadata": {
        "id": "xs233Ouie3MU",
        "colab_type": "code",
        "colab": {}
      },
      "source": [
        "d <- vector(\"numeric\", length = 10)\n",
        "d"
      ],
      "execution_count": 0,
      "outputs": []
    },
    {
      "cell_type": "markdown",
      "metadata": {
        "id": "fNSEYjM-cybd",
        "colab_type": "text"
      },
      "source": [
        "* The **seq()** and **rep()** functions, or the \":\" operator"
      ]
    },
    {
      "cell_type": "code",
      "metadata": {
        "id": "bQTIhhr-fHbK",
        "colab_type": "code",
        "colab": {}
      },
      "source": [
        "d <- 1:15\n",
        "d\n",
        "d <- seq(from=2,to=10,by=2)\n",
        "d\n",
        "d <- seq(from=2,to=10,length=5)\n",
        "d\n",
        "d <- rep(5,6)\n",
        "d"
      ],
      "execution_count": 0,
      "outputs": []
    },
    {
      "cell_type": "markdown",
      "metadata": {
        "id": "UZ5rhMVif3_l",
        "colab_type": "text"
      },
      "source": [
        "* Or a combination of all of them"
      ]
    },
    {
      "cell_type": "code",
      "metadata": {
        "id": "z5940hpBf84c",
        "colab_type": "code",
        "colab": {}
      },
      "source": [
        "d <- c(1,2,3:5,rep(6,3))\n",
        "d"
      ],
      "execution_count": 0,
      "outputs": []
    },
    {
      "cell_type": "markdown",
      "metadata": {
        "id": "699QJqLcgSuA",
        "colab_type": "text"
      },
      "source": [
        "You can convert an object to a different type using the **as.\\<TYPE>()** functions"
      ]
    },
    {
      "cell_type": "code",
      "metadata": {
        "id": "3M78WQu8gfV0",
        "colab_type": "code",
        "colab": {}
      },
      "source": [
        "d <- 1:3\n",
        "d\n",
        "as.character(d)"
      ],
      "execution_count": 0,
      "outputs": []
    },
    {
      "cell_type": "markdown",
      "metadata": {
        "id": "3sHvzlJcgeMY",
        "colab_type": "text"
      },
      "source": [
        "Coercion will occur when mixed objects are passed to the c() function, as if the as.\\<Type>()function is explicitly called."
      ]
    },
    {
      "cell_type": "code",
      "metadata": {
        "id": "8t53vPtSAQGd",
        "colab_type": "code",
        "colab": {}
      },
      "source": [
        "d <- c(1e3,\"a\")\n",
        "d\n",
        "class(d)"
      ],
      "execution_count": 0,
      "outputs": []
    },
    {
      "cell_type": "code",
      "metadata": {
        "id": "MvkIhdRNr79q",
        "colab_type": "code",
        "colab": {}
      },
      "source": [
        "c(1.7,\"a\")"
      ],
      "execution_count": 0,
      "outputs": []
    },
    {
      "cell_type": "code",
      "metadata": {
        "id": "SdTJOA57rrWH",
        "colab_type": "code",
        "colab": {}
      },
      "source": [
        "c(T,2)"
      ],
      "execution_count": 0,
      "outputs": []
    },
    {
      "cell_type": "code",
      "metadata": {
        "id": "2oarOr5zrnT7",
        "colab_type": "code",
        "colab": {}
      },
      "source": [
        "as.logical(0:6)"
      ],
      "execution_count": 0,
      "outputs": []
    },
    {
      "cell_type": "markdown",
      "metadata": {
        "id": "2eI7whmShOZc",
        "colab_type": "text"
      },
      "source": [
        "One can use [\\<index>] to access individual element in a vector\n",
        "  * In R, indices start from 1"
      ]
    },
    {
      "cell_type": "code",
      "metadata": {
        "id": "SMkjHhcIhYZr",
        "colab_type": "code",
        "colab": {}
      },
      "source": [
        "d <- 1:10\n",
        "d[4]\n",
        "#d[1,4]\n",
        "d[c(1,4)]\n",
        "d[-6:-2]\n",
        "d[c(T,T,F)]"
      ],
      "execution_count": 0,
      "outputs": []
    },
    {
      "cell_type": "markdown",
      "metadata": {
        "id": "CtYnVRNuBUGA",
        "colab_type": "text"
      },
      "source": [
        "Lots of R operations process objects in a vectorized way\n",
        "* More efficient, concise, and easier to read."
      ]
    },
    {
      "cell_type": "code",
      "metadata": {
        "id": "1FAlkls2Ba3G",
        "colab_type": "code",
        "colab": {}
      },
      "source": [
        "x <- 1:4\n",
        "y <- 6:9"
      ],
      "execution_count": 0,
      "outputs": []
    },
    {
      "cell_type": "code",
      "metadata": {
        "id": "wRXPJis8ig0R",
        "colab_type": "code",
        "colab": {}
      },
      "source": [
        "x + y"
      ],
      "execution_count": 0,
      "outputs": []
    },
    {
      "cell_type": "code",
      "metadata": {
        "id": "KTncXEdzipxM",
        "colab_type": "code",
        "colab": {}
      },
      "source": [
        "x > 2"
      ],
      "execution_count": 0,
      "outputs": []
    },
    {
      "cell_type": "code",
      "metadata": {
        "id": "Ox4ry-10irS5",
        "colab_type": "code",
        "colab": {}
      },
      "source": [
        "x > y"
      ],
      "execution_count": 0,
      "outputs": []
    },
    {
      "cell_type": "code",
      "metadata": {
        "id": "dBUPBHF7isXg",
        "colab_type": "code",
        "colab": {}
      },
      "source": [
        "x[x > 2]"
      ],
      "execution_count": 0,
      "outputs": []
    },
    {
      "cell_type": "markdown",
      "metadata": {
        "id": "VKld5NEAAoih",
        "colab_type": "text"
      },
      "source": [
        "### Matrices\n"
      ]
    },
    {
      "cell_type": "markdown",
      "metadata": {
        "id": "KhSI7T6UCPpk",
        "colab_type": "text"
      },
      "source": [
        "In R, matrices are merely vectors with a \"dimension\" attribute. Therefore, elements in matrices must be of the same type as well.\n"
      ]
    },
    {
      "cell_type": "markdown",
      "metadata": {
        "id": "fvrNbJrMlmV2",
        "colab_type": "text"
      },
      "source": [
        "R matrices can be constructed by using the **matrix()** function."
      ]
    },
    {
      "cell_type": "code",
      "metadata": {
        "id": "GkZiv9n5lqA6",
        "colab_type": "code",
        "colab": {}
      },
      "source": [
        "matrix(1:12,nrow=3,ncol=4)"
      ],
      "execution_count": 0,
      "outputs": []
    },
    {
      "cell_type": "markdown",
      "metadata": {
        "id": "oko-tFFqltHz",
        "colab_type": "text"
      },
      "source": [
        "Or by passing an \"dim\" attribute to a vector."
      ]
    },
    {
      "cell_type": "code",
      "metadata": {
        "id": "Qme15v9SlyJ2",
        "colab_type": "code",
        "colab": {}
      },
      "source": [
        "m <- 1:12\n",
        "m\n",
        "dim(m) <- c(3,4)\n",
        "m"
      ],
      "execution_count": 0,
      "outputs": []
    },
    {
      "cell_type": "markdown",
      "metadata": {
        "id": "Uvl_J9sSlyVs",
        "colab_type": "text"
      },
      "source": [
        "Or by using the cbind() or rbind() functions."
      ]
    },
    {
      "cell_type": "code",
      "metadata": {
        "id": "h-iS3R5ZmBa6",
        "colab_type": "code",
        "colab": {}
      },
      "source": [
        "cbind(1:3,4:6,7:9,10:12)"
      ],
      "execution_count": 0,
      "outputs": []
    },
    {
      "cell_type": "markdown",
      "metadata": {
        "id": "1-AqG09RmBmO",
        "colab_type": "text"
      },
      "source": [
        "R matrices are constructed column‐wise.\n"
      ]
    },
    {
      "cell_type": "code",
      "metadata": {
        "id": "XUMg5yZkmFVq",
        "colab_type": "code",
        "colab": {}
      },
      "source": [
        "matrix(1:12,nrow=3,ncol=4)\n",
        "matrix(1:12,nrow=3,ncol=4,byrow=T)"
      ],
      "execution_count": 0,
      "outputs": []
    },
    {
      "cell_type": "markdown",
      "metadata": {
        "id": "8EjvH1f7mFkK",
        "colab_type": "text"
      },
      "source": [
        "• One can use [\\<index>,\\<index>] to access individual elements."
      ]
    },
    {
      "cell_type": "code",
      "metadata": {
        "id": "M6stfeDhm5G4",
        "colab_type": "code",
        "colab": {}
      },
      "source": [
        "m[3,4]"
      ],
      "execution_count": 0,
      "outputs": []
    },
    {
      "cell_type": "markdown",
      "metadata": {
        "id": "li5JUqAwCYNj",
        "colab_type": "text"
      },
      "source": [
        "### Arrays"
      ]
    },
    {
      "cell_type": "markdown",
      "metadata": {
        "id": "JxDOrW-pCaIq",
        "colab_type": "text"
      },
      "source": [
        "Arrays consist of elements of same class with a number of dimensions\n",
        "– Vectors and matrices are arrays of 1 and 2 dimensions."
      ]
    },
    {
      "cell_type": "code",
      "metadata": {
        "id": "Qzhr0Nw4nH27",
        "colab_type": "code",
        "colab": {}
      },
      "source": [
        "a <- array(data = 1:12,dim = c(2,2,3))"
      ],
      "execution_count": 0,
      "outputs": []
    },
    {
      "cell_type": "markdown",
      "metadata": {
        "id": "vhIuKcVJCi4v",
        "colab_type": "text"
      },
      "source": [
        "### Lists"
      ]
    },
    {
      "cell_type": "markdown",
      "metadata": {
        "id": "OJ0yD7ucClYs",
        "colab_type": "text"
      },
      "source": [
        "Lists are an ordered collection of objects, which can be of different types or classes."
      ]
    },
    {
      "cell_type": "markdown",
      "metadata": {
        "id": "HTzfaqMknnJ2",
        "colab_type": "text"
      },
      "source": [
        "Lists can be constructed by using the **list()** function.\n"
      ]
    },
    {
      "cell_type": "code",
      "metadata": {
        "id": "S8Usv5C_nvQX",
        "colab_type": "code",
        "colab": {}
      },
      "source": [
        "list(1,F,\"a\")"
      ],
      "execution_count": 0,
      "outputs": []
    },
    {
      "cell_type": "markdown",
      "metadata": {
        "id": "aK6s7l1Mn-AY",
        "colab_type": "text"
      },
      "source": [
        "Members of a list do not have to be of atomic types, i.e. they can be vectors, matrices and even lists."
      ]
    },
    {
      "cell_type": "code",
      "metadata": {
        "id": "2GcZ0WG0n9Vl",
        "colab_type": "code",
        "colab": {}
      },
      "source": [
        "mylist <- list(1,1:5,matrix(1:6,2,3),list(1,F,\"a\"))\n",
        "mylist"
      ],
      "execution_count": 0,
      "outputs": []
    },
    {
      "cell_type": "markdown",
      "metadata": {
        "id": "rzJ2Bx4UnuIO",
        "colab_type": "text"
      },
      "source": [
        "• Lists can be indexed using the [[ ]] operator."
      ]
    },
    {
      "cell_type": "code",
      "metadata": {
        "id": "lMXnv97wocWl",
        "colab_type": "code",
        "colab": {}
      },
      "source": [
        "mylist[[2]]\n",
        "mylist[[4]][[2]]"
      ],
      "execution_count": 0,
      "outputs": []
    },
    {
      "cell_type": "markdown",
      "metadata": {
        "id": "YL7uvFvXo3rR",
        "colab_type": "text"
      },
      "source": [
        "Elements of R objects can have names."
      ]
    },
    {
      "cell_type": "code",
      "metadata": {
        "id": "bScUaMObo5mj",
        "colab_type": "code",
        "colab": {}
      },
      "source": [
        "names(mylist)"
      ],
      "execution_count": 0,
      "outputs": []
    },
    {
      "cell_type": "markdown",
      "metadata": {
        "id": "_dDKckUGqxTv",
        "colab_type": "text"
      },
      "source": [
        "Names can be specified when an object is created."
      ]
    },
    {
      "cell_type": "code",
      "metadata": {
        "id": "XerI2_7Mq1N9",
        "colab_type": "code",
        "colab": {}
      },
      "source": [
        "list(inst=\"LSU\",location=\"Baton Rouge\",state=\"LA\")"
      ],
      "execution_count": 0,
      "outputs": []
    },
    {
      "cell_type": "markdown",
      "metadata": {
        "id": "V-mAptaDrGSF",
        "colab_type": "text"
      },
      "source": [
        "Or they can be specified later when the **names()** function."
      ]
    },
    {
      "cell_type": "code",
      "metadata": {
        "id": "VVxgGiDno7kw",
        "colab_type": "code",
        "colab": {}
      },
      "source": [
        "names(mylist) <- c(\"num\",\"vec\",\"mat\",\"lst\")\n",
        "names(mylist)"
      ],
      "execution_count": 0,
      "outputs": []
    },
    {
      "cell_type": "markdown",
      "metadata": {
        "id": "kHj7ByHqpEoM",
        "colab_type": "text"
      },
      "source": [
        "Names can be used to access elements in a data object using the $ operator."
      ]
    },
    {
      "cell_type": "code",
      "metadata": {
        "id": "6yRq-skdpes_",
        "colab_type": "code",
        "colab": {}
      },
      "source": [
        "mylist$lst"
      ],
      "execution_count": 0,
      "outputs": []
    },
    {
      "cell_type": "markdown",
      "metadata": {
        "id": "kNKYP4SbpkJm",
        "colab_type": "text"
      },
      "source": [
        " Indexing operations by names and indices can be nested and mixed."
      ]
    },
    {
      "cell_type": "code",
      "metadata": {
        "id": "HmOCuFmDpEFY",
        "colab_type": "code",
        "colab": {}
      },
      "source": [
        "names(mylist$lst) <- c(\"c1\",\"c2\",\"c3\")\n",
        "mylist$lst$c2\n",
        "mylist$lst[[2]]\n",
        "mylist[[4]][[2]]"
      ],
      "execution_count": 0,
      "outputs": []
    },
    {
      "cell_type": "markdown",
      "metadata": {
        "id": "iJPzTbBHCsVo",
        "colab_type": "text"
      },
      "source": [
        "### Data frames"
      ]
    },
    {
      "cell_type": "markdown",
      "metadata": {
        "id": "TpXO9HkvCuKv",
        "colab_type": "text"
      },
      "source": [
        "Data frames are used to store tabular data\n",
        "* They are a special type of lists where every element (i.e. column) has to be of the same length, but can be of different class\n",
        "* Data frames can store different classes of objects in each column\n",
        "* Data frames can have special attributes such as row.names\n",
        "* Data frames can be created by reading data files, using functions such as **read.table()** or **read.csv()** (more on this later)\n",
        "* Can be converted to a matrix using the function **data.matrix()**"
      ]
    },
    {
      "cell_type": "code",
      "metadata": {
        "id": "I_N34OyML_tQ",
        "colab_type": "code",
        "colab": {}
      },
      "source": [
        "mtcars"
      ],
      "execution_count": 0,
      "outputs": []
    },
    {
      "cell_type": "markdown",
      "metadata": {
        "id": "H3ReBPXnJ12R",
        "colab_type": "text"
      },
      "source": [
        "Data frames can be created directly by calling the data.frame() function."
      ]
    },
    {
      "cell_type": "code",
      "metadata": {
        "id": "oJNtp7X2J6nu",
        "colab_type": "code",
        "colab": {}
      },
      "source": [
        "mydf <- data.frame(c(31,40,50), c(\"M\",\"F\",\"M\"))\n",
        "mydf"
      ],
      "execution_count": 0,
      "outputs": []
    },
    {
      "cell_type": "markdown",
      "metadata": {
        "id": "21fJg0nOKCQ6",
        "colab_type": "text"
      },
      "source": [
        "We usually name the columns so that it's more meanful."
      ]
    },
    {
      "cell_type": "code",
      "metadata": {
        "id": "17B_Kr9yKBVI",
        "colab_type": "code",
        "colab": {}
      },
      "source": [
        "names(mydf) <- c(\"age\",\"sex\")\n",
        "mydf"
      ],
      "execution_count": 0,
      "outputs": []
    },
    {
      "cell_type": "markdown",
      "metadata": {
        "id": "1yM746_VKccW",
        "colab_type": "text"
      },
      "source": [
        "Row names can be specified as well."
      ]
    },
    {
      "cell_type": "code",
      "metadata": {
        "id": "Xp5vrwERKfEd",
        "colab_type": "code",
        "colab": {}
      },
      "source": [
        "row.names(mydf) <- c(\"obs1\",\"obs2\",\"obs3\")\n",
        "mydf"
      ],
      "execution_count": 0,
      "outputs": []
    },
    {
      "cell_type": "markdown",
      "metadata": {
        "id": "rEbhKOExMal6",
        "colab_type": "text"
      },
      "source": [
        "To individual elements in a data frame, there are a few options:"
      ]
    },
    {
      "cell_type": "markdown",
      "metadata": {
        "id": "xRgdLN_aKtQ8",
        "colab_type": "text"
      },
      "source": [
        "* Numeric indices"
      ]
    },
    {
      "cell_type": "code",
      "metadata": {
        "id": "4cGXFHP2KwIG",
        "colab_type": "code",
        "colab": {}
      },
      "source": [
        "mydf[1,2]"
      ],
      "execution_count": 0,
      "outputs": []
    },
    {
      "cell_type": "markdown",
      "metadata": {
        "id": "3sWGcKObLA5Y",
        "colab_type": "text"
      },
      "source": [
        "* Row and column names"
      ]
    },
    {
      "cell_type": "code",
      "metadata": {
        "id": "8bHbKVsCLDtj",
        "colab_type": "code",
        "colab": {}
      },
      "source": [
        "mydf[\"obs1\",\"sex\"]"
      ],
      "execution_count": 0,
      "outputs": []
    },
    {
      "cell_type": "markdown",
      "metadata": {
        "id": "MeKU0OXBLIjJ",
        "colab_type": "text"
      },
      "source": [
        "* Or a mix of indices and names"
      ]
    },
    {
      "cell_type": "code",
      "metadata": {
        "id": "MstNHSCrLH_o",
        "colab_type": "code",
        "colab": {}
      },
      "source": [
        "mydf[\"obs1\",2]"
      ],
      "execution_count": 0,
      "outputs": []
    },
    {
      "cell_type": "markdown",
      "metadata": {
        "id": "PsXKfQlXLWs2",
        "colab_type": "text"
      },
      "source": [
        "Since data frames are lists, the [[]] operator and name work."
      ]
    },
    {
      "cell_type": "code",
      "metadata": {
        "id": "TfBrE6PeLdf9",
        "colab_type": "code",
        "colab": {}
      },
      "source": [
        "mydf[[2]]"
      ],
      "execution_count": 0,
      "outputs": []
    },
    {
      "cell_type": "code",
      "metadata": {
        "id": "HRI_YmX8LgF9",
        "colab_type": "code",
        "colab": {}
      },
      "source": [
        "mydf$sex"
      ],
      "execution_count": 0,
      "outputs": []
    },
    {
      "cell_type": "markdown",
      "metadata": {
        "id": "NBZf5ysyLkx2",
        "colab_type": "text"
      },
      "source": [
        "You could select rows by leaving the other index blank:"
      ]
    },
    {
      "cell_type": "code",
      "metadata": {
        "id": "4Inl8zwxL6O7",
        "colab_type": "code",
        "colab": {}
      },
      "source": [
        "mydf[1:2,]"
      ],
      "execution_count": 0,
      "outputs": []
    },
    {
      "cell_type": "markdown",
      "metadata": {
        "id": "K6HhjQlJMAjd",
        "colab_type": "text"
      },
      "source": [
        "And vice versa:"
      ]
    },
    {
      "cell_type": "code",
      "metadata": {
        "id": "XiA_kAQ6MB8T",
        "colab_type": "code",
        "colab": {}
      },
      "source": [
        "mydf[,\"sex\"]"
      ],
      "execution_count": 0,
      "outputs": []
    },
    {
      "cell_type": "markdown",
      "metadata": {
        "id": "15tZZUY7MH5N",
        "colab_type": "text"
      },
      "source": [
        "Subsetting a data frame:"
      ]
    },
    {
      "cell_type": "code",
      "metadata": {
        "id": "GAI5DLeLMHU8",
        "colab_type": "code",
        "colab": {}
      },
      "source": [
        "mydf[c(1,3),c(\"age\",\"sex\")]"
      ],
      "execution_count": 0,
      "outputs": []
    },
    {
      "cell_type": "markdown",
      "metadata": {
        "id": "HYy-JykcC7si",
        "colab_type": "text"
      },
      "source": [
        "## Querying Object Attributes"
      ]
    },
    {
      "cell_type": "markdown",
      "metadata": {
        "id": "MAIM2wbHC_Ra",
        "colab_type": "text"
      },
      "source": [
        "* The **length()** function\n",
        "* The **class()** function\n",
        "* The **dim()** function\n",
        "* The **str()** function\n",
        "* The **attributes()** function reveals attributes of an object\n",
        "  * Class\n",
        "  * Names\n",
        "  * Dimensions\n",
        "  * Length\n",
        "  * User defined attributes\n",
        "* They work on all objects (including functions)\n",
        "* More examples later"
      ]
    },
    {
      "cell_type": "code",
      "metadata": {
        "id": "YhuB1PIAbCw4",
        "colab_type": "code",
        "colab": {}
      },
      "source": [
        "length(mtcars)\n",
        "class(mtcars)\n",
        "dim(mtcars)\n",
        "str(mtcars)\n",
        "attributes(mtcars)"
      ],
      "execution_count": 0,
      "outputs": []
    },
    {
      "cell_type": "markdown",
      "metadata": {
        "id": "Gmt6NO9RGRuU",
        "colab_type": "text"
      },
      "source": [
        "## Exercise 1"
      ]
    },
    {
      "cell_type": "markdown",
      "metadata": {
        "id": "7KLECRpoMhCi",
        "colab_type": "text"
      },
      "source": [
        "* Find the airquality dataframe in the datasets package\n",
        "* Find the average tempature of June and July."
      ]
    },
    {
      "cell_type": "code",
      "metadata": {
        "id": "xvTL9soMkWz3",
        "colab_type": "code",
        "colab": {}
      },
      "source": [
        "summary(airquality)"
      ],
      "execution_count": 0,
      "outputs": []
    },
    {
      "cell_type": "markdown",
      "metadata": {
        "id": "m80UZgL1WfZY",
        "colab_type": "text"
      },
      "source": [
        "# File and Directory Operations"
      ]
    },
    {
      "cell_type": "markdown",
      "metadata": {
        "id": "_uv7F-KZOPNC",
        "colab_type": "text"
      },
      "source": [
        "## Query working directory"
      ]
    },
    {
      "cell_type": "code",
      "metadata": {
        "id": "n95VB47DOSZX",
        "colab_type": "code",
        "colab": {}
      },
      "source": [
        "getwd()\n",
        "list.files()\n",
        "list.dirs()\n",
        "setwd(\"/content/sample_data\")\n",
        "getwd()"
      ],
      "execution_count": 0,
      "outputs": []
    },
    {
      "cell_type": "markdown",
      "metadata": {
        "id": "Woqh3VEVWntL",
        "colab_type": "text"
      },
      "source": [
        "## Downloading files"
      ]
    },
    {
      "cell_type": "markdown",
      "metadata": {
        "id": "-NWfOeicjrF8",
        "colab_type": "text"
      },
      "source": [
        "If we need files from the internet, we can either\n",
        "* Manually download the file to the working directory\n",
        "* or with R function **download.file()**"
      ]
    },
    {
      "cell_type": "code",
      "metadata": {
        "id": "WaAlc0IUdc1Q",
        "colab_type": "code",
        "colab": {}
      },
      "source": [
        "download.file(\"http://www.hpc.lsu.edu/training/weekly-materials/Downloads/Forbes2000.csv.zip\", \"Forbes2000.csv.zip\")"
      ],
      "execution_count": 0,
      "outputs": []
    },
    {
      "cell_type": "markdown",
      "metadata": {
        "id": "lx08L6_9WsGt",
        "colab_type": "text"
      },
      "source": [
        "## Handling files"
      ]
    },
    {
      "cell_type": "markdown",
      "metadata": {
        "id": "8y1Ya7D5dqKS",
        "colab_type": "text"
      },
      "source": [
        "R has a set of file.\\<opearation> functions."
      ]
    },
    {
      "cell_type": "code",
      "metadata": {
        "id": "CfC2sko8jDGA",
        "colab_type": "code",
        "colab": {}
      },
      "source": [
        "file.exists(\"testfile\")"
      ],
      "execution_count": 0,
      "outputs": []
    },
    {
      "cell_type": "code",
      "metadata": {
        "id": "nICOYhxZjO-x",
        "colab_type": "code",
        "colab": {}
      },
      "source": [
        "file.create(\"testfile\")\n",
        "file.exists(\"testfile\")"
      ],
      "execution_count": 0,
      "outputs": []
    },
    {
      "cell_type": "code",
      "metadata": {
        "id": "LHSEXJUSdgHY",
        "colab_type": "code",
        "colab": {}
      },
      "source": [
        "list.files()"
      ],
      "execution_count": 0,
      "outputs": []
    },
    {
      "cell_type": "code",
      "metadata": {
        "id": "2k3z6b6tjZl2",
        "colab_type": "code",
        "colab": {}
      },
      "source": [
        "file.copy(\"testfile\",\"anotherfile\")\n",
        "file.remove(\"testfile\",\"anotherfile\")"
      ],
      "execution_count": 0,
      "outputs": []
    },
    {
      "cell_type": "markdown",
      "metadata": {
        "id": "cLKxDCedWvSx",
        "colab_type": "text"
      },
      "source": [
        "## Reading data from and Writing data to Files"
      ]
    },
    {
      "cell_type": "markdown",
      "metadata": {
        "id": "KWoZO1neex6-",
        "colab_type": "text"
      },
      "source": [
        "R can recognize a lot of different file formats."
      ]
    },
    {
      "cell_type": "markdown",
      "metadata": {
        "id": "3yN1DHTr6xHi",
        "colab_type": "text"
      },
      "source": [
        "# Flow Control Structures"
      ]
    },
    {
      "cell_type": "markdown",
      "metadata": {
        "id": "jyWSGLWCNP2T",
        "colab_type": "text"
      },
      "source": [
        "Flow control structures in R, which allow one to control the flow of execution, are similar to other languages."
      ]
    },
    {
      "cell_type": "markdown",
      "metadata": {
        "id": "5-VsMAtmdUye",
        "colab_type": "text"
      },
      "source": [
        "## Condition testing"
      ]
    },
    {
      "cell_type": "markdown",
      "metadata": {
        "id": "4j0XFnjHcNlM",
        "colab_type": "text"
      },
      "source": [
        "Test a condition with the if...else structure:\n",
        "\n",
        "```\n",
        "if (condition 1 is true) {\n",
        "  do something\n",
        "} else if (condition 2 is true) {\n",
        "  do something else\n",
        "} else {\n",
        "  do something more\n",
        "}\n",
        "```\n",
        "\n"
      ]
    },
    {
      "cell_type": "code",
      "metadata": {
        "id": "HWAur64lb4gj",
        "colab_type": "code",
        "colab": {}
      },
      "source": [
        "if (length(mtcars) > 3) {\n",
        "  print(\"We have more than 3 cars!\")\n",
        "}"
      ],
      "execution_count": 0,
      "outputs": []
    },
    {
      "cell_type": "markdown",
      "metadata": {
        "id": "OdMW3qxnc-GW",
        "colab_type": "text"
      },
      "source": [
        "Comparisons:\n",
        "* Less than: ```<```\n",
        "* Less than or equal to: <=\n",
        "* Greater than: >\n",
        "* Greater than or equal to: >=\n",
        "* Equal to: ==\n",
        "* Not equal to: ```!=```\n"
      ]
    },
    {
      "cell_type": "markdown",
      "metadata": {
        "id": "cRlX87w0dwoU",
        "colab_type": "text"
      },
      "source": [
        "Logical operations:\n",
        "* NOT: !\n",
        "* AND (elementwise): &\n",
        "* AND (only leftmost element): &&\n",
        "* OR (element wise): |\n",
        "* OR (only leftmost element): ||"
      ]
    },
    {
      "cell_type": "markdown",
      "metadata": {
        "id": "MZDqVv23da8F",
        "colab_type": "text"
      },
      "source": [
        "## Loops"
      ]
    },
    {
      "cell_type": "markdown",
      "metadata": {
        "id": "XDfW1jMEc1Eg",
        "colab_type": "text"
      },
      "source": [
        "Loops with ```for```:\n",
        "\n",
        "```\n",
        "for (variable in sequence) {\n",
        "  statements\n",
        "}\n",
        "```"
      ]
    },
    {
      "cell_type": "code",
      "metadata": {
        "id": "-WRBrRHpejAD",
        "colab_type": "code",
        "colab": {}
      },
      "source": [
        "for (i in 1:10) {\n",
        "  print(i^3)\n",
        "}"
      ],
      "execution_count": 0,
      "outputs": []
    },
    {
      "cell_type": "markdown",
      "metadata": {
        "id": "L_u6GzW2NZPr",
        "colab_type": "text"
      },
      "source": [
        "Loops are not very frequently used in R because many operations are inherently vectorized. The family of **apply()** functions are also very useful to perform operation over all elements of a vector/list (see next section)."
      ]
    },
    {
      "cell_type": "code",
      "metadata": {
        "id": "jZSW9cgDesDM",
        "colab_type": "code",
        "colab": {}
      },
      "source": [
        "(1:10)^3"
      ],
      "execution_count": 0,
      "outputs": []
    },
    {
      "cell_type": "markdown",
      "metadata": {
        "id": "teFguAz8gGEr",
        "colab_type": "text"
      },
      "source": [
        "## Exercise 2\n",
        "\n",
        "Create a random sample of 100 numbers and count how many of them are greater than 5."
      ]
    },
    {
      "cell_type": "markdown",
      "metadata": {
        "id": "ndYj2veJO_aI",
        "colab_type": "text"
      },
      "source": [
        "## Exercise 3"
      ]
    },
    {
      "cell_type": "markdown",
      "metadata": {
        "id": "MzUgrKdNPCR3",
        "colab_type": "text"
      },
      "source": [
        "Use the airquality data frame, find\n",
        "* the average tempature of June and July\n",
        "* the number of days when temperature is between 50 and 70"
      ]
    },
    {
      "cell_type": "markdown",
      "metadata": {
        "id": "Az9hNbGkhVMh",
        "colab_type": "text"
      },
      "source": [
        "### Solution"
      ]
    },
    {
      "cell_type": "code",
      "metadata": {
        "id": "2YqnhxbUhYuX",
        "colab_type": "code",
        "colab": {},
        "cellView": "form"
      },
      "source": [
        "#@title\n",
        "x <- runif(100,0,10)\n",
        "length(x[x>5])"
      ],
      "execution_count": 0,
      "outputs": []
    },
    {
      "cell_type": "markdown",
      "metadata": {
        "id": "QYHSyiO264Lo",
        "colab_type": "text"
      },
      "source": [
        "# Functions"
      ]
    },
    {
      "cell_type": "markdown",
      "metadata": {
        "id": "Ln_66oqI681p",
        "colab_type": "text"
      },
      "source": [
        "# Graphics in R"
      ]
    },
    {
      "cell_type": "markdown",
      "metadata": {
        "id": "Dn_0FhCwYGh_",
        "colab_type": "text"
      },
      "source": [
        "There are three plotting systems in R\n",
        "* base\n",
        "  * Convenient, but hard to adjust after the plot is created\n",
        "* lattice\n",
        "  * Good for creating conditioning plot\n",
        "* ggplot2\n",
        "  * Powerful and flexible, many tunable feature, may require some time to master\n"
      ]
    },
    {
      "cell_type": "markdown",
      "metadata": {
        "id": "Z08zo1CzYbrL",
        "colab_type": "text"
      },
      "source": [
        "Each has its pros and cons, so it is up to the users which one to choose."
      ]
    },
    {
      "cell_type": "markdown",
      "metadata": {
        "id": "_sh0dD7NYkY8",
        "colab_type": "text"
      },
      "source": [
        "## base"
      ]
    },
    {
      "cell_type": "markdown",
      "metadata": {
        "id": "ERWkZMFVgFy_",
        "colab_type": "text"
      },
      "source": [
        "A few functions are avaible in the base plot systems\n",
        "* plot(): line and scatter plots\n",
        "* boxplot(): box plots\n",
        "* hist(): histograms"
      ]
    },
    {
      "cell_type": "code",
      "metadata": {
        "id": "GjrJFgsff6uf",
        "colab_type": "code",
        "colab": {}
      },
      "source": [
        "# Create the plot with title and axis labels.\n",
        "plot(pressure,type=\"l\",\n",
        "     main=\"Vapor Pressure of Mercury\",\n",
        "     xlab=\"Temperature\", \n",
        "     ylab=\"Vapor Pressure\")\n",
        "# Add points\n",
        "points(pressure,col='red') \n",
        "# Add annotation\n",
        "text(150,700,\"Source: Weast, R. C., ed. (1973) Handbook \\n\n",
        "     of Chemistry and Physics. CRC Press.\")"
      ],
      "execution_count": 0,
      "outputs": []
    },
    {
      "cell_type": "markdown",
      "metadata": {
        "id": "MenwnCkuYoQt",
        "colab_type": "text"
      },
      "source": [
        "## ggplot2"
      ]
    },
    {
      "cell_type": "code",
      "metadata": {
        "id": "HFOpWRHxg5RW",
        "colab_type": "code",
        "colab": {}
      },
      "source": [
        "install.packages(\"gcookbook\")\n",
        "require(gcookbook)\n",
        "qplot(weightLb, heightIn, data=heightweight, geom=\"point\")"
      ],
      "execution_count": 0,
      "outputs": []
    },
    {
      "cell_type": "code",
      "metadata": {
        "id": "7wKAPUK7g6lo",
        "colab_type": "code",
        "colab": {}
      },
      "source": [
        "ggplot(heightweight, aes(x=weightLb, y=heightIn, color=sex, shape=sex)) + \n",
        "  geom_point(size=3.5) +\n",
        "  ggtitle(\"School Children\\nHeight ~ Weight\") +\n",
        "  labs(y=\"Height (inch)\", x=\"Weight (lbs)\") +\n",
        "  stat_smooth(method=loess, se=T, color=\"black\", fullrange=T) +\n",
        "  annotate(\"text\",x=145,y=75,label=\"Locally weighted polynomial fit with 95% CI\",color=\"Green\",size=6) +\n",
        "  scale_color_brewer(palette = \"Set1\", labels=c(\"Female\", \"Male\")) +\n",
        "  guides(shape=F) +\n",
        "  theme_bw() +\n",
        "  theme(plot.title = element_text(size=20, hjust=0.5), \n",
        "        legend.position = c(0.9,0.2),\n",
        "        axis.title.x = element_text(size=20), axis.title.y = element_text(size=20),\n",
        "        legend.title = element_text(size=15),legend.text = element_text(size=15))"
      ],
      "execution_count": 0,
      "outputs": []
    },
    {
      "cell_type": "markdown",
      "metadata": {
        "id": "gRqDF8nIY5qa",
        "colab_type": "text"
      },
      "source": [
        "[Data Visualization in R](http://www.hpc.lsu.edu/training/weekly-materials/2018-Spring/Slides.html#(1)) tutorial from LSU HPC"
      ]
    },
    {
      "cell_type": "markdown",
      "metadata": {
        "id": "-1OjjS0p6_lt",
        "colab_type": "text"
      },
      "source": [
        "# Parallel Processing"
      ]
    },
    {
      "cell_type": "markdown",
      "metadata": {
        "id": "hkeDSGESZ_J0",
        "colab_type": "text"
      },
      "source": [
        "Modern computers are equipped with more than one CPU core and are capable of processing workloads in parallel, but base R is single‐threaded, i.e. not parallel.\n",
        "\n",
        "In other words, regardless how many cores are available, R can only \n",
        "use one of them.\n",
        "\n",
        "There are two options to run R in parallel\n",
        "* Implicit\n",
        "* Explicit"
      ]
    },
    {
      "cell_type": "markdown",
      "metadata": {
        "id": "1Za3yZbWcIBm",
        "colab_type": "text"
      },
      "source": [
        "## Implicit parallel processing"
      ]
    },
    {
      "cell_type": "markdown",
      "metadata": {
        "id": "SeE5pNzdcaqt",
        "colab_type": "text"
      },
      "source": [
        "Some functions in R can call parallel numerical libraries.\n",
        "* On LONI and LSU HPC clusters this is the multi‐threaded Intel MKL library\n",
        "* Mostly linear algebraic and related functions (e.g. linear regression, matrix decomposition, computing inverse and determinant of a matrix)"
      ]
    },
    {
      "cell_type": "markdown",
      "metadata": {
        "id": "KGFBQEzOcMlA",
        "colab_type": "text"
      },
      "source": [
        "## Explicit parallel processing"
      ]
    },
    {
      "cell_type": "markdown",
      "metadata": {
        "id": "zhE2hltlfSpS",
        "colab_type": "text"
      },
      "source": [
        "If the implicit option is not available for what you'd like to do, some codes need to be written."
      ]
    },
    {
      "cell_type": "code",
      "metadata": {
        "id": "VHosBGlubArA",
        "colab_type": "code",
        "colab": {}
      },
      "source": [
        "install.packages(\"doParallel\")\n",
        "require(doParallel)"
      ],
      "execution_count": 0,
      "outputs": []
    },
    {
      "cell_type": "markdown",
      "metadata": {
        "id": "vwM8hXRyZccR",
        "colab_type": "text"
      },
      "source": [
        "[Parallel Computing in R](http://www.hpc.lsu.edu/training/weekly-materials/2017-Fall/HPC_Parallel_R_Fall2017.pdf) tutorial from LSU HPC"
      ]
    },
    {
      "cell_type": "markdown",
      "metadata": {
        "id": "C-jdAOYX652m",
        "colab_type": "text"
      },
      "source": [
        "# How to Install and Load R Packages"
      ]
    },
    {
      "cell_type": "markdown",
      "metadata": {
        "id": "CVsBdnMJQ_hO",
        "colab_type": "text"
      },
      "source": [
        "To load a R package, use the library() or require() function:"
      ]
    },
    {
      "cell_type": "code",
      "metadata": {
        "id": "Z1XbChLQRHlq",
        "colab_type": "code",
        "colab": {}
      },
      "source": [
        "library(lubridate)"
      ],
      "execution_count": 0,
      "outputs": []
    },
    {
      "cell_type": "code",
      "metadata": {
        "id": "v3TEHkDmRHpB",
        "colab_type": "code",
        "colab": {}
      },
      "source": [
        "require(dplyr)"
      ],
      "execution_count": 0,
      "outputs": []
    },
    {
      "cell_type": "markdown",
      "metadata": {
        "id": "pQCqbBgMRNn_",
        "colab_type": "text"
      },
      "source": [
        "If a package is not available, the **install.packages()** function can be used to install it."
      ]
    },
    {
      "cell_type": "code",
      "metadata": {
        "id": "q1f3p9OXRWXX",
        "colab_type": "code",
        "colab": {}
      },
      "source": [
        "library(reshape)"
      ],
      "execution_count": 0,
      "outputs": []
    },
    {
      "cell_type": "code",
      "metadata": {
        "id": "vTPsokxQRYst",
        "colab_type": "code",
        "colab": {}
      },
      "source": [
        "install.packages(\"reshape\")\n",
        "require(reshape)"
      ],
      "execution_count": 0,
      "outputs": []
    },
    {
      "cell_type": "markdown",
      "metadata": {
        "id": "3TOGsHvIOLFW",
        "colab_type": "text"
      },
      "source": [
        "Multiple packages can be installed with one call of the **install.packages()** function."
      ]
    },
    {
      "cell_type": "code",
      "metadata": {
        "id": "ksi6rPshOWpS",
        "colab_type": "code",
        "colab": {}
      },
      "source": [
        "install.packages(c(\"reshape\",\"xlsx\"))"
      ],
      "execution_count": 0,
      "outputs": []
    },
    {
      "cell_type": "markdown",
      "metadata": {
        "id": "vYQV6dMfRcFq",
        "colab_type": "text"
      },
      "source": [
        "Note that double quotation is not needed when loading packages, but necessary when installing packages."
      ]
    },
    {
      "cell_type": "markdown",
      "metadata": {
        "id": "ykBSP1N6TwTt",
        "colab_type": "text"
      },
      "source": [
        "Remove packages."
      ]
    },
    {
      "cell_type": "code",
      "metadata": {
        "id": "DTGxWquhN4I-",
        "colab_type": "code",
        "colab": {}
      },
      "source": [
        "remove.packages(\"reshape\")"
      ],
      "execution_count": 0,
      "outputs": []
    },
    {
      "cell_type": "markdown",
      "metadata": {
        "id": "-iMVow7sTztO",
        "colab_type": "text"
      },
      "source": [
        "Update packages."
      ]
    },
    {
      "cell_type": "code",
      "metadata": {
        "id": "4r1GxL5LN0aK",
        "colab_type": "code",
        "colab": {}
      },
      "source": [
        "update.packages(\"lubricate\")"
      ],
      "execution_count": 0,
      "outputs": []
    },
    {
      "cell_type": "markdown",
      "metadata": {
        "id": "fTdvZYEaT17B",
        "colab_type": "text"
      },
      "source": [
        "List installed packages."
      ]
    },
    {
      "cell_type": "code",
      "metadata": {
        "id": "SjAI5mpBT4et",
        "colab_type": "code",
        "colab": {}
      },
      "source": [
        "installed.packages()"
      ],
      "execution_count": 0,
      "outputs": []
    },
    {
      "cell_type": "markdown",
      "metadata": {
        "id": "Oo6YEVwsSb0B",
        "colab_type": "text"
      },
      "source": [
        "# Case Study"
      ]
    },
    {
      "cell_type": "markdown",
      "metadata": {
        "id": "A3lhEYzLVq0y",
        "colab_type": "text"
      },
      "source": [
        "## Steps of Data Analysis\n",
        "\n",
        "* Data acquisition\n",
        "* Data inspection\n",
        "* Data cleanup\n",
        "  * Remove missing and dubious values, discard columns not needed etc.\n",
        "* Data analysis\n",
        "* Report generation"
      ]
    },
    {
      "cell_type": "markdown",
      "metadata": {
        "id": "zbxWBeVYSr4e",
        "colab_type": "text"
      },
      "source": [
        "## Data acquisition"
      ]
    },
    {
      "cell_type": "code",
      "metadata": {
        "id": "mlROZqWESe6i",
        "colab_type": "code",
        "colab": {}
      },
      "source": [
        "download.file(\"http://www.hpc.lsu.edu/training/weekly-materials/Downloads/Forbes2000.csv.zip\", \"Forbes2000.csv.zip\")\n",
        "unzip(\"Forbes2000.csv.zip\",\"Forbes2000.csv\")\n",
        "file.remove(\"Forbes2000.csv.zip\")\n",
        "list.files()"
      ],
      "execution_count": 0,
      "outputs": []
    },
    {
      "cell_type": "code",
      "metadata": {
        "id": "ZafBMSM8TnJW",
        "colab_type": "code",
        "colab": {}
      },
      "source": [
        "forbes <- read.csv(\"Forbes2000.csv\")"
      ],
      "execution_count": 0,
      "outputs": []
    },
    {
      "cell_type": "markdown",
      "metadata": {
        "id": "u4DJpdy8SzhC",
        "colab_type": "text"
      },
      "source": [
        "## Data inspection"
      ]
    },
    {
      "cell_type": "markdown",
      "metadata": {
        "id": "nF633P7BWlnb",
        "colab_type": "text"
      },
      "source": [
        "The head() and tail() functions do similar things as their counterparts in Linux, revealing the first and last few rows of a dataframe. "
      ]
    },
    {
      "cell_type": "code",
      "metadata": {
        "id": "lnUB60_bW4ul",
        "colab_type": "code",
        "colab": {}
      },
      "source": [
        "head(forbes)"
      ],
      "execution_count": 0,
      "outputs": []
    },
    {
      "cell_type": "markdown",
      "metadata": {
        "id": "QnOFHrDGTa9w",
        "colab_type": "text"
      },
      "source": [
        "A set of functions that are useful to examine data."
      ]
    },
    {
      "cell_type": "markdown",
      "metadata": {
        "id": "1xGV_7XGUcd5",
        "colab_type": "text"
      },
      "source": [
        "* **min()** - Minimum value\n",
        "* **max()** - Maximum value\n",
        "* **which.min()** - Location of minimum value\n",
        "* **which.max()** - Location of maximum value\n",
        "* **sum()** - Sum of the elements of a vector\n",
        "* **mean()** - Mean of the elements of a vector\n",
        "* **sd()** - Standard deviation of the elements of a vector\n",
        "* **quantile()** - Show quantiles of a vector\n",
        "* **summary()** - Display descriptive statistics"
      ]
    },
    {
      "cell_type": "code",
      "metadata": {
        "id": "WaYfgAguUmt3",
        "colab_type": "code",
        "colab": {}
      },
      "source": [
        "summary(forbes)"
      ],
      "execution_count": 0,
      "outputs": []
    },
    {
      "cell_type": "markdown",
      "metadata": {
        "id": "oLASPp7rWNHp",
        "colab_type": "text"
      },
      "source": [
        "The str() and attributes() functions can be useful as well."
      ]
    },
    {
      "cell_type": "code",
      "metadata": {
        "id": "3CwBZW-WUi0_",
        "colab_type": "code",
        "colab": {}
      },
      "source": [
        "str(forbes)"
      ],
      "execution_count": 0,
      "outputs": []
    },
    {
      "cell_type": "markdown",
      "metadata": {
        "id": "m7av0IcaWYOC",
        "colab_type": "text"
      },
      "source": [
        "A quick plot or two won't hurt either."
      ]
    },
    {
      "cell_type": "code",
      "metadata": {
        "id": "hv42PKNxnKuU",
        "colab_type": "code",
        "colab": {}
      },
      "source": [
        "attach(forbes) # attach the data frame\n",
        "boxplot(sales) # boxplot\n",
        "plot(sales,assets) # scatterplot"
      ],
      "execution_count": 0,
      "outputs": []
    },
    {
      "cell_type": "markdown",
      "metadata": {
        "id": "8WynLA_lS1Wb",
        "colab_type": "text"
      },
      "source": [
        "## Data cleanup"
      ]
    },
    {
      "cell_type": "markdown",
      "metadata": {
        "id": "65qpWOvJpf8g",
        "colab_type": "text"
      },
      "source": [
        "### Dealing with missing values"
      ]
    },
    {
      "cell_type": "markdown",
      "metadata": {
        "id": "11OgJV6DnskV",
        "colab_type": "text"
      },
      "source": [
        "Missing values are denoted in R by ```NA``` or ```NaN``` for undefined mathematical operations.\n",
        "\n",
        "The **is.na()** function is used to test objects if they are ```NA```.\n",
        "\n",
        "Make sure when reading data R can recognize the missing values. \n",
        "\n",
        "Many R functions also have a logical “na.rm” option\n",
        "– na.rm=TRUE means the NA values should be discarded\n",
        "mean(weight,na.rm=T)\n",
        "\n",
        "Note: Not all missing values are marked with “```NA```” in raw data!"
      ]
    },
    {
      "cell_type": "markdown",
      "metadata": {
        "id": "kUgtZR_hpBo7",
        "colab_type": "text"
      },
      "source": [
        "There are many statistical techniques that can deal with the missing\n",
        "values, but the simplest way is to remove them.\n",
        "* If a row (observation) has a missing value, remove the row with\n",
        "na.omit(). e.g.\n",
        "\n",
        "* If a column (variable) has a high percentage of the missing value,\n",
        "remove the whole column or just don’t use it for the analysis"
      ]
    },
    {
      "cell_type": "code",
      "metadata": {
        "id": "Q9FOnA9RpMjs",
        "colab_type": "code",
        "colab": {}
      },
      "source": [
        "forbes <- na.omit(forbes)\n",
        "dim(forbes)"
      ],
      "execution_count": 0,
      "outputs": []
    },
    {
      "cell_type": "code",
      "metadata": {
        "id": "nWfjcnj2Uhnz",
        "colab_type": "code",
        "colab": {}
      },
      "source": [
        "forbes[! complete.cases(forbes),]"
      ],
      "execution_count": 0,
      "outputs": []
    },
    {
      "cell_type": "markdown",
      "metadata": {
        "id": "MUZaw77zpkZo",
        "colab_type": "text"
      },
      "source": [
        "### Subsetting the data"
      ]
    },
    {
      "cell_type": "markdown",
      "metadata": {
        "id": "7xN4J1uxptxU",
        "colab_type": "text"
      },
      "source": [
        "Use the **subset()** function."
      ]
    },
    {
      "cell_type": "markdown",
      "metadata": {
        "id": "9-pi-jiMS4jo",
        "colab_type": "text"
      },
      "source": [
        "## Data analysis"
      ]
    },
    {
      "cell_type": "code",
      "metadata": {
        "id": "LcencCfXqRUo",
        "colab_type": "code",
        "colab": {}
      },
      "source": [
        "housing <- read.csv(\"sample_data//california_housing_train.csv\")"
      ],
      "execution_count": 0,
      "outputs": []
    },
    {
      "cell_type": "code",
      "metadata": {
        "id": "b75KUUQSqdIF",
        "colab_type": "code",
        "colab": {}
      },
      "source": [
        "str(housing)"
      ],
      "execution_count": 0,
      "outputs": []
    },
    {
      "cell_type": "code",
      "metadata": {
        "id": "uvU5CfcNqhcY",
        "colab_type": "code",
        "colab": {}
      },
      "source": [
        "complete.cases(housing)"
      ],
      "execution_count": 0,
      "outputs": []
    },
    {
      "cell_type": "markdown",
      "metadata": {
        "id": "7DKtXwQJJIII",
        "colab_type": "text"
      },
      "source": [
        "### Exercise 4\n",
        "\n",
        "Find the average sales, profit and market value of all US-based banks."
      ]
    },
    {
      "cell_type": "markdown",
      "metadata": {
        "id": "e1HvH009S8oB",
        "colab_type": "text"
      },
      "source": [
        "## Report generation"
      ]
    }
  ]
}