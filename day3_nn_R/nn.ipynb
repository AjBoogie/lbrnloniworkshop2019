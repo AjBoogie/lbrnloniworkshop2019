{
  "nbformat": 4,
  "nbformat_minor": 0,
  "metadata": {
    "colab": {
      "name": "Copy of Demo.ipynb",
      "version": "0.3.2",
      "provenance": [],
      "include_colab_link": true
    },
    "language_info": {
      "codemirror_mode": "r",
      "file_extension": ".r",
      "mimetype": "text/x-r-source",
      "name": "R",
      "pygments_lexer": "r",
      "version": "3.3.1"
    },
    "kernelspec": {
      "display_name": "R",
      "language": "R",
      "name": "ir"
    }
  },
  "cells": [
    {
      "cell_type": "markdown",
      "metadata": {
        "id": "view-in-github",
        "colab_type": "text"
      },
      "source": [
        "<a href=\"https://colab.research.google.com/github/lsuhpchelp/lbrnloniworkshop2019/blob/master/day3_nn_R/nn.ipynb\" target=\"_parent\"><img src=\"https://colab.research.google.com/assets/colab-badge.svg\" alt=\"Open In Colab\"/></a>"
      ]
    },
    {
      "cell_type": "markdown",
      "metadata": {
        "id": "z9M2OON4LMAQ",
        "colab_type": "text"
      },
      "source": [
        "Neural Network with R\n",
        "==="
      ]
    },
    {
      "cell_type": "markdown",
      "metadata": {
        "id": "aFU3ZdKoe2At",
        "colab_type": "text"
      },
      "source": [
        "# Outline\n",
        "\n",
        "\n",
        "*   **Install and load R packages**\n",
        "\n",
        "*   **`nnet` package**\n",
        "\n",
        "*   **`neuralnet` package**"
      ]
    },
    {
      "cell_type": "markdown",
      "metadata": {
        "id": "Mb40n8LTLWzv",
        "colab_type": "text"
      },
      "source": [
        "# Install and load R packages\n",
        "\n",
        "May take a while\n",
        "\n",
        "R packages to be installed:"
      ]
    },
    {
      "cell_type": "code",
      "metadata": {
        "id": "Q0JBu8ws4N5W",
        "colab_type": "code",
        "colab": {}
      },
      "source": [
        "install.packages(\"reshape\")\n",
        "install.packages(\"faraway\")\n",
        "install.packages(\"nnet\")\n",
        "install.packages(\"neuralnet\")"
      ],
      "execution_count": 0,
      "outputs": []
    },
    {
      "cell_type": "markdown",
      "metadata": {
        "id": "ND5iRnVkNy8F",
        "colab_type": "text"
      },
      "source": [
        "Load R packages and scripts:"
      ]
    },
    {
      "cell_type": "code",
      "metadata": {
        "id": "3GgzeVUcGKQw",
        "colab_type": "code",
        "colab": {}
      },
      "source": [
        "library(reshape)\n",
        "library(nnet)\n",
        "library(faraway)\n",
        "library(neuralnet)\n",
        "library(datasets)\n",
        "download.file(\"https://gist.githubusercontent.com/fawda123/7471137/raw/466c1474d0a505ff044412703516c34f1a4684a5/nnet_plot_update.r\",\"nnet_plot_update.r\")\n",
        "source(\"nnet_plot_update.r\")"
      ],
      "execution_count": 0,
      "outputs": []
    },
    {
      "cell_type": "markdown",
      "metadata": {
        "id": "SH2MZcenfdKM",
        "colab_type": "text"
      },
      "source": [
        "# 1. `nnet` package"
      ]
    },
    {
      "cell_type": "markdown",
      "metadata": {
        "id": "xNe3Y5v1ODl9",
        "colab_type": "text"
      },
      "source": [
        "## 1.1 Ozone data\n",
        "* We apply the neural networks to the `ozone` data which was analyzed before using the `nnet` package, due to Venables and Ripley (2002). \n",
        "* `Ozone` data is included in the `faraway` package, which has 330 observations on the following 10 variables. \n",
        "> * **O3** Ozone conc., ppm, at Sandbug AFB.\n",
        "> * **vh** a numeric vector\n",
        ">*  **wind** wind speed\n",
        ">* **humidity** a numeric vector\n",
        ">* **temp** temperature\n",
        ">* **ibh** inversion base height\n",
        ">* **dpg** Daggett pressure gradient\n",
        ">* **ibt** a numeric vector\n",
        ">* **vis** visibility\n",
        ">* **doy** day of the year"
      ]
    },
    {
      "cell_type": "code",
      "metadata": {
        "id": "SL75lUZAVxoZ",
        "colab_type": "code",
        "colab": {}
      },
      "source": [
        "attach(ozone)\n",
        "summary(ozone)"
      ],
      "execution_count": 0,
      "outputs": []
    },
    {
      "cell_type": "markdown",
      "metadata": {
        "id": "wGqS7orySkSq",
        "colab_type": "text"
      },
      "source": [
        "### 1.1.1 \n",
        "* We started with just **three** variables for simplicity and fit a feed-forward neural network with **one** hidden layer containing **two** units and a linear output. \n",
        "> * Why linear output? This is a regression problem. \n",
        "\n",
        "The result (nnmd1) from will contain # of weights and the initial and final residual sum of squres (RSS, aka sum of squared errors of prediction (SSE)): "
      ]
    },
    {
      "cell_type": "code",
      "metadata": {
        "id": "gu7iaf8TVqZ7",
        "colab_type": "code",
        "colab": {
          "base_uri": "https://localhost:8080/",
          "height": 104
        },
        "outputId": "9f9151fe-a650-4304-e4d9-d4f11a62fc59"
      },
      "source": [
        "nnmd1 <- nnet(O3~temp+ibh+ibt,ozone,size=2,linout=T)\n"
      ],
      "execution_count": 5,
      "outputs": [
        {
          "output_type": "stream",
          "text": [
            "# weights:  11\n",
            "initial  value 65581.373332 \n",
            "iter  10 value 21101.930641\n",
            "final  value 21099.396948 \n",
            "converged\n"
          ],
          "name": "stdout"
        }
      ]
    },
    {
      "cell_type": "markdown",
      "metadata": {
        "id": "BmI2VCrbg5nf",
        "colab_type": "text"
      },
      "source": [
        "* We calculate the total sum of squares:"
      ]
    },
    {
      "cell_type": "code",
      "metadata": {
        "id": "ZsQDJJDSS9ey",
        "colab_type": "code",
        "colab": {
          "base_uri": "https://localhost:8080/",
          "height": 34
        },
        "outputId": "be5bd965-bcb2-43a9-fbcb-8ed2bdd8973b"
      },
      "source": [
        "sum((O3-mean(O3))^2)\n"
      ],
      "execution_count": 6,
      "outputs": [
        {
          "output_type": "display_data",
          "data": {
            "text/plain": [
              "[1] 21115.41"
            ],
            "text/latex": "21115.4060606061",
            "text/markdown": "21115.4060606061",
            "text/html": [
              "21115.4060606061"
            ]
          },
          "metadata": {
            "tags": []
          }
        }
      ]
    },
    {
      "cell_type": "markdown",
      "metadata": {
        "id": "ko6qQyuicLHt",
        "colab_type": "text"
      },
      "source": [
        "## Quiz\n",
        "* Why the total weights is 11?  \n",
        "* Is this neural network model good or not? Why?"
      ]
    },
    {
      "cell_type": "markdown",
      "metadata": {
        "id": "fr4gAxshjIoj",
        "colab_type": "text"
      },
      "source": [
        "### 1.1.2 scaling variables\n",
        "* The problems comes from the initial selection of the weights. It is hard to select the initial weights when the variables have very different scales. The solution is to rescale the data to mean zero and unit variance. \n",
        "\n",
        "Check standard deviation before and after the scaling:"
      ]
    },
    {
      "cell_type": "code",
      "metadata": {
        "id": "VhRHc-HJg7uI",
        "colab_type": "code",
        "colab": {}
      },
      "source": [
        "apply(ozone,2,sd)\n",
        "ozone2 <- scale(ozone)\n",
        "apply(ozone2,2,sd)\n",
        "nnmd1 <- nnet(O3~temp+ibh+ibt,ozone2,size=2,linout=T)\n",
        "bestrss <- 10000\n",
        "for (i in 1:100){\n",
        "set.seed(i)\n",
        " nnmd1 <- nnet(O3~temp+ibh+ibt,ozone2,size=2,linout=T,trace=F)\n",
        " if (nnmd1$value < bestrss){\n",
        " bestnn <- nnmd1\n",
        " bestrss <- nnmd1$value\n",
        " }\n",
        " }\n",
        "bestnn$value\n",
        "summary(bestnn)"
      ],
      "execution_count": 0,
      "outputs": []
    },
    {
      "cell_type": "code",
      "metadata": {
        "id": "qL116lF_V6Du",
        "colab_type": "code",
        "colab": {}
      },
      "source": [
        "plot.nnet(bestnn)"
      ],
      "execution_count": 0,
      "outputs": []
    },
    {
      "cell_type": "code",
      "metadata": {
        "id": "u-dPu4M9V_wz",
        "colab_type": "code",
        "colab": {}
      },
      "source": [
        "bestrss <- 10000\n",
        "for (i in 1:100){\n",
        "set.seed(i)\n",
        " nnmd1 <- nnet(O3~temp+ibh+ibt,ozone2,size=2,linout=T,decay=0.001, trace=F)\n",
        " if (nnmd1$value < bestrss){\n",
        " bestnn <- nnmd1\n",
        " bestrss <- nnmd1$value\n",
        " }\n",
        " }\n",
        " bestnn$value\n",
        " summary(bestnn)"
      ],
      "execution_count": 0,
      "outputs": []
    },
    {
      "cell_type": "code",
      "metadata": {
        "id": "bMC-XsJfWQ5E",
        "colab_type": "code",
        "colab": {}
      },
      "source": [
        "estrss <- 10000\n",
        "for (i in 1:100){\n",
        "set.seed(i)\n",
        " nnmd1 <- nnet(O3~temp+ibh+ibt,ozone2,size=4,linout=T, trace=F)\n",
        " if (nnmd1$value < bestrss){\n",
        " bestnn <- nnmd1\n",
        " bestrss <- nnmd1$value\n",
        " }\n",
        " }\n",
        " bestnn$value\n",
        " summary(bestnn)\n",
        "# with decay\n",
        "bestrss <- 10000\n",
        "for (i in 1:100){\n",
        "set.seed(i)\n",
        " nnmd1 <- nnet(O3~temp+ibh+ibt,ozone2,size=4,linout=T,decay=0.001, trace=F)\n",
        " if (nnmd1$value < bestrss){\n",
        " bestnn <- nnmd1\n",
        " bestrss <- nnmd1$value\n",
        " }\n",
        " }\n",
        " bestnn$value\n",
        " summary(bestnn)"
      ],
      "execution_count": 0,
      "outputs": []
    },
    {
      "cell_type": "code",
      "metadata": {
        "id": "BC4ciE19WTxh",
        "colab_type": "code",
        "outputId": "da574ff1-8e4b-4855-f43a-ba69ea94a4a6",
        "colab": {
          "base_uri": "https://localhost:8080/",
          "height": 86
        }
      },
      "source": [
        "install.packages(\"caret\")"
      ],
      "execution_count": 0,
      "outputs": [
        {
          "output_type": "stream",
          "text": [
            "Installing package into ‘/usr/local/lib/R/site-library’\n",
            "(as ‘lib’ is unspecified)\n",
            "also installing the dependencies ‘numDeriv’, ‘SQUAREM’, ‘lava’, ‘prodlim’, ‘iterators’, ‘data.table’, ‘gower’, ‘ipred’, ‘RcppRoll’, ‘timeDate’, ‘foreach’, ‘ModelMetrics’, ‘recipes’\n",
            "\n"
          ],
          "name": "stderr"
        }
      ]
    },
    {
      "cell_type": "code",
      "metadata": {
        "id": "-NfUSrYeWbU_",
        "colab_type": "code",
        "outputId": "b82acc69-4718-47d9-b079-5ba8106644c1",
        "colab": {
          "base_uri": "https://localhost:8080/",
          "height": 260
        }
      },
      "source": [
        "library(caret)"
      ],
      "execution_count": 0,
      "outputs": [
        {
          "output_type": "stream",
          "text": [
            "Loading required package: lattice\n",
            "\n",
            "Attaching package: ‘lattice’\n",
            "\n",
            "The following object is masked from ‘package:faraway’:\n",
            "\n",
            "    melanoma\n",
            "\n",
            "Loading required package: ggplot2\n",
            "Registered S3 methods overwritten by 'ggplot2':\n",
            "  method         from \n",
            "  [.quosures     rlang\n",
            "  c.quosures     rlang\n",
            "  print.quosures rlang\n"
          ],
          "name": "stderr"
        }
      ]
    },
    {
      "cell_type": "code",
      "metadata": {
        "id": "ELavvk6lWdhO",
        "colab_type": "code",
        "colab": {}
      },
      "source": [
        "my.grid <- expand.grid(.decay = c(0.0001, 0.001,0.01), .size = c(1, 2, 3,4))\n",
        "nn.model <- train(O3~ .,ozone2,method=\"nnet\",tuneGrid = my.grid,trace=F)"
      ],
      "execution_count": 0,
      "outputs": []
    },
    {
      "cell_type": "code",
      "metadata": {
        "id": "_45gCAXZXYUB",
        "colab_type": "code",
        "outputId": "9b008670-1604-44a7-b366-95abae3c1011",
        "colab": {
          "base_uri": "https://localhost:8080/",
          "height": 225
        }
      },
      "source": [
        "summary(nn.model)"
      ],
      "execution_count": 0,
      "outputs": [
        {
          "output_type": "display_data",
          "data": {
            "text/plain": [
              "a 9-4-1 network with 45 weights\n",
              "options were - decay=0.01\n",
              " b->h1 i1->h1 i2->h1 i3->h1 i4->h1 i5->h1 i6->h1 i7->h1 i8->h1 i9->h1 \n",
              " -1.39  -4.30  -2.46   4.25  -2.10   0.31  -0.45  -3.47   1.30   3.38 \n",
              " b->h2 i1->h2 i2->h2 i3->h2 i4->h2 i5->h2 i6->h2 i7->h2 i8->h2 i9->h2 \n",
              "  0.91   0.24  -2.47  -1.01   0.03  -0.86   1.98   3.01  -2.71   3.08 \n",
              " b->h3 i1->h3 i2->h3 i3->h3 i4->h3 i5->h3 i6->h3 i7->h3 i8->h3 i9->h3 \n",
              "  0.80   2.43  -0.56  -2.72  -0.79   1.18   2.14  -3.21  -1.23   0.59 \n",
              " b->h4 i1->h4 i2->h4 i3->h4 i4->h4 i5->h4 i6->h4 i7->h4 i8->h4 i9->h4 \n",
              " -2.86  -2.45   1.30  -3.74   0.23  -2.75  -4.22   0.38   1.22   3.07 \n",
              " b->o h1->o h2->o h3->o h4->o \n",
              "-1.42 -7.07  7.55 -7.12 -6.93 "
            ]
          },
          "metadata": {
            "tags": []
          }
        }
      ]
    },
    {
      "cell_type": "code",
      "metadata": {
        "id": "hdJNl5GDTGN1",
        "colab_type": "code",
        "outputId": "7611bb57-2868-46f8-bc6f-a6d018250042",
        "colab": {
          "base_uri": "https://localhost:8080/",
          "height": 225
        }
      },
      "source": [
        "str(infert)\n",
        "table(infert$case)\n",
        "set.seed(1)\n",
        "indx <- sample(1:248,size=248,replace=F)\n",
        "dat1 <- infert[indx[1:200],] #train set\n",
        "dat2 <- infert[indx[201:248],] #test set\n"
      ],
      "execution_count": 0,
      "outputs": [
        {
          "output_type": "stream",
          "text": [
            "'data.frame':\t248 obs. of  8 variables:\n",
            " $ education     : Factor w/ 3 levels \"0-5yrs\",\"6-11yrs\",..: 1 1 1 1 2 2 2 2 2 2 ...\n",
            " $ age           : num  26 42 39 34 35 36 23 32 21 28 ...\n",
            " $ parity        : num  6 1 6 4 3 4 1 2 1 2 ...\n",
            " $ induced       : num  1 1 2 2 1 2 0 0 0 0 ...\n",
            " $ case          : num  1 1 1 1 1 1 1 1 1 1 ...\n",
            " $ spontaneous   : num  2 0 0 0 1 1 0 0 1 0 ...\n",
            " $ stratum       : int  1 2 3 4 5 6 7 8 9 10 ...\n",
            " $ pooled.stratum: num  3 1 4 2 32 36 6 22 5 19 ...\n"
          ],
          "name": "stdout"
        },
        {
          "output_type": "display_data",
          "data": {
            "text/plain": [
              "\n",
              "  0   1 \n",
              "165  83 "
            ]
          },
          "metadata": {
            "tags": []
          }
        }
      ]
    },
    {
      "cell_type": "code",
      "metadata": {
        "id": "us9N39fCT8KW",
        "colab_type": "code",
        "colab": {}
      },
      "source": [
        "set.seed(2)\n",
        "nn <- neuralnet(case~age+parity+induced+spontaneous,data=dat1,hidden=4,err.fct=\"ce\",linear.output=FALSE)\n",
        "nn"
      ],
      "execution_count": 0,
      "outputs": []
    },
    {
      "cell_type": "code",
      "metadata": {
        "id": "uoYRv4lbU1JL",
        "colab_type": "code",
        "colab": {}
      },
      "source": [
        "names(nn)\n",
        "out <- cbind(nn$covariate,nn$net.result[[1]])\n",
        "dimnames(out) <- list(NULL,c(\"age\",\"parity\",\"induced\",\"spontaneous\",\"nn-output\"))\n",
        "head(out)\n",
        "plot(nn)"
      ],
      "execution_count": 0,
      "outputs": []
    },
    {
      "cell_type": "code",
      "metadata": {
        "id": "D9E6G6zsVApn",
        "colab_type": "code",
        "colab": {}
      },
      "source": [
        "plot(nn)"
      ],
      "execution_count": 0,
      "outputs": []
    }
  ]
}